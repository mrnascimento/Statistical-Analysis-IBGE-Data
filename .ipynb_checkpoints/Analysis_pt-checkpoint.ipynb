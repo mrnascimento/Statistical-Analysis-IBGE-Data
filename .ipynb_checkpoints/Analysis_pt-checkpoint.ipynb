{
 "cells": [
  {
   "cell_type": "markdown",
   "metadata": {},
   "source": [
    "# Análise estatística dos dados do IBGE \n",
    "\n",
    "No presente trabalho, faremos uma análise bem específica do Dataset do PNAD do IBGE 2010, buscando responder uma pergunta de negócio. Este trabalho foi proposto como desafio no primeiro módulo do curso de Data Science da Digital House e, abaixo, apresento a solução desenvolvida por mim."
   ]
  },
  {
   "cell_type": "markdown",
   "metadata": {},
   "source": [
    "## Objetivo &mdash; A pergunta de negócio:\n",
    "\n",
    "A pergunta escolhida, a qual será respondida ao final da análise, foi:\n",
    "\n",
    "**\"As regiões do Brasil apresentam escolaridades médias (estatisticamente) diferentes da média nacional e entre si?\"**"
   ]
  },
  {
   "cell_type": "code",
   "execution_count": 1,
   "metadata": {
    "ExecuteTime": {
     "end_time": "2019-10-08T20:07:00.652283Z",
     "start_time": "2019-10-08T20:06:59.814505Z"
    }
   },
   "outputs": [],
   "source": [
    "# Importando bibliotecas\n",
    "import pandas as pd\n",
    "import numpy as np\n",
    "import matplotlib.pyplot as plt\n",
    "import scipy.stats as st\n",
    "import seaborn as sns\n",
    "import utils\n",
    "import random\n",
    "\n",
    "# Fixando a seed:\n",
    "random.seed(42)\n",
    "\n",
    "# Definindo variáveis globais:\n",
    "HIST_ec = 'black'"
   ]
  },
  {
   "cell_type": "markdown",
   "metadata": {},
   "source": [
    "## EDA "
   ]
  },
  {
   "cell_type": "code",
   "execution_count": 2,
   "metadata": {
    "ExecuteTime": {
     "end_time": "2019-10-08T20:07:00.752966Z",
     "start_time": "2019-10-08T20:07:00.653231Z"
    }
   },
   "outputs": [
    {
     "data": {
      "text/html": [
       "<div>\n",
       "<style scoped>\n",
       "    .dataframe tbody tr th:only-of-type {\n",
       "        vertical-align: middle;\n",
       "    }\n",
       "\n",
       "    .dataframe tbody tr th {\n",
       "        vertical-align: top;\n",
       "    }\n",
       "\n",
       "    .dataframe thead th {\n",
       "        text-align: right;\n",
       "    }\n",
       "</style>\n",
       "<table border=\"1\" class=\"dataframe\">\n",
       "  <thead>\n",
       "    <tr style=\"text-align: right;\">\n",
       "      <th></th>\n",
       "      <th>seq</th>\n",
       "      <th>id</th>\n",
       "      <th>idade</th>\n",
       "      <th>sexo</th>\n",
       "      <th>anos_estudo</th>\n",
       "      <th>cor/raca</th>\n",
       "      <th>salario</th>\n",
       "      <th>estado_civil</th>\n",
       "      <th>regiao</th>\n",
       "    </tr>\n",
       "  </thead>\n",
       "  <tbody>\n",
       "    <tr>\n",
       "      <th>0</th>\n",
       "      <td>0</td>\n",
       "      <td>1.100190e+10</td>\n",
       "      <td>53</td>\n",
       "      <td>homem</td>\n",
       "      <td>5.0</td>\n",
       "      <td>Parda</td>\n",
       "      <td>63600.000000</td>\n",
       "      <td>1.0</td>\n",
       "      <td>norte</td>\n",
       "    </tr>\n",
       "    <tr>\n",
       "      <th>1</th>\n",
       "      <td>1</td>\n",
       "      <td>1.100190e+10</td>\n",
       "      <td>49</td>\n",
       "      <td>mulher</td>\n",
       "      <td>8.0</td>\n",
       "      <td>Amarela</td>\n",
       "      <td>NaN</td>\n",
       "      <td>1.0</td>\n",
       "      <td>norte</td>\n",
       "    </tr>\n",
       "    <tr>\n",
       "      <th>2</th>\n",
       "      <td>2</td>\n",
       "      <td>1.100190e+10</td>\n",
       "      <td>22</td>\n",
       "      <td>mulher</td>\n",
       "      <td>11.0</td>\n",
       "      <td>Indigena</td>\n",
       "      <td>4352.400391</td>\n",
       "      <td>0.0</td>\n",
       "      <td>nordeste</td>\n",
       "    </tr>\n",
       "    <tr>\n",
       "      <th>3</th>\n",
       "      <td>3</td>\n",
       "      <td>1.100190e+10</td>\n",
       "      <td>55</td>\n",
       "      <td>homem</td>\n",
       "      <td>15.0</td>\n",
       "      <td>Amarela</td>\n",
       "      <td>96600.000000</td>\n",
       "      <td>1.0</td>\n",
       "      <td>norte</td>\n",
       "    </tr>\n",
       "    <tr>\n",
       "      <th>4</th>\n",
       "      <td>4</td>\n",
       "      <td>1.100190e+10</td>\n",
       "      <td>56</td>\n",
       "      <td>mulher</td>\n",
       "      <td>15.0</td>\n",
       "      <td>Amarela</td>\n",
       "      <td>157800.000000</td>\n",
       "      <td>1.0</td>\n",
       "      <td>norte</td>\n",
       "    </tr>\n",
       "  </tbody>\n",
       "</table>\n",
       "</div>"
      ],
      "text/plain": [
       "   seq            id  idade    sexo  anos_estudo  cor/raca        salario  \\\n",
       "0    0  1.100190e+10     53   homem          5.0     Parda   63600.000000   \n",
       "1    1  1.100190e+10     49  mulher          8.0   Amarela            NaN   \n",
       "2    2  1.100190e+10     22  mulher         11.0  Indigena    4352.400391   \n",
       "3    3  1.100190e+10     55   homem         15.0   Amarela   96600.000000   \n",
       "4    4  1.100190e+10     56  mulher         15.0   Amarela  157800.000000   \n",
       "\n",
       "   estado_civil    regiao  \n",
       "0           1.0     norte  \n",
       "1           1.0     norte  \n",
       "2           0.0  nordeste  \n",
       "3           1.0     norte  \n",
       "4           1.0     norte  "
      ]
     },
     "metadata": {},
     "output_type": "display_data"
    },
    {
     "data": {
      "text/html": [
       "<div>\n",
       "<style scoped>\n",
       "    .dataframe tbody tr th:only-of-type {\n",
       "        vertical-align: middle;\n",
       "    }\n",
       "\n",
       "    .dataframe tbody tr th {\n",
       "        vertical-align: top;\n",
       "    }\n",
       "\n",
       "    .dataframe thead th {\n",
       "        text-align: right;\n",
       "    }\n",
       "</style>\n",
       "<table border=\"1\" class=\"dataframe\">\n",
       "  <thead>\n",
       "    <tr style=\"text-align: right;\">\n",
       "      <th></th>\n",
       "      <th>seq</th>\n",
       "      <th>id</th>\n",
       "      <th>idade</th>\n",
       "      <th>sexo</th>\n",
       "      <th>anos_estudo</th>\n",
       "      <th>cor/raca</th>\n",
       "      <th>salario</th>\n",
       "      <th>estado_civil</th>\n",
       "      <th>regiao</th>\n",
       "    </tr>\n",
       "  </thead>\n",
       "  <tbody>\n",
       "    <tr>\n",
       "      <th>66465</th>\n",
       "      <td>66465</td>\n",
       "      <td>5.311702e+10</td>\n",
       "      <td>34</td>\n",
       "      <td>mulher</td>\n",
       "      <td>5.0</td>\n",
       "      <td>Branca</td>\n",
       "      <td>NaN</td>\n",
       "      <td>1.0</td>\n",
       "      <td>centro-oeste</td>\n",
       "    </tr>\n",
       "    <tr>\n",
       "      <th>66466</th>\n",
       "      <td>66466</td>\n",
       "      <td>5.311702e+10</td>\n",
       "      <td>40</td>\n",
       "      <td>homem</td>\n",
       "      <td>5.0</td>\n",
       "      <td>Parda</td>\n",
       "      <td>2425.000000</td>\n",
       "      <td>1.0</td>\n",
       "      <td>centro-oeste</td>\n",
       "    </tr>\n",
       "    <tr>\n",
       "      <th>66467</th>\n",
       "      <td>66467</td>\n",
       "      <td>5.311702e+10</td>\n",
       "      <td>36</td>\n",
       "      <td>mulher</td>\n",
       "      <td>5.0</td>\n",
       "      <td>Parda</td>\n",
       "      <td>2425.000000</td>\n",
       "      <td>1.0</td>\n",
       "      <td>centro-oeste</td>\n",
       "    </tr>\n",
       "    <tr>\n",
       "      <th>66468</th>\n",
       "      <td>66468</td>\n",
       "      <td>5.311702e+10</td>\n",
       "      <td>27</td>\n",
       "      <td>mulher</td>\n",
       "      <td>5.0</td>\n",
       "      <td>Branca</td>\n",
       "      <td>5524.200195</td>\n",
       "      <td>1.0</td>\n",
       "      <td>centro-oeste</td>\n",
       "    </tr>\n",
       "    <tr>\n",
       "      <th>66469</th>\n",
       "      <td>66469</td>\n",
       "      <td>5.311702e+10</td>\n",
       "      <td>37</td>\n",
       "      <td>homem</td>\n",
       "      <td>5.0</td>\n",
       "      <td>Preta</td>\n",
       "      <td>460.350006</td>\n",
       "      <td>1.0</td>\n",
       "      <td>centro-oeste</td>\n",
       "    </tr>\n",
       "  </tbody>\n",
       "</table>\n",
       "</div>"
      ],
      "text/plain": [
       "         seq            id  idade    sexo  anos_estudo cor/raca      salario  \\\n",
       "66465  66465  5.311702e+10     34  mulher          5.0   Branca          NaN   \n",
       "66466  66466  5.311702e+10     40   homem          5.0    Parda  2425.000000   \n",
       "66467  66467  5.311702e+10     36  mulher          5.0    Parda  2425.000000   \n",
       "66468  66468  5.311702e+10     27  mulher          5.0   Branca  5524.200195   \n",
       "66469  66469  5.311702e+10     37   homem          5.0    Preta   460.350006   \n",
       "\n",
       "       estado_civil        regiao  \n",
       "66465           1.0  centro-oeste  \n",
       "66466           1.0  centro-oeste  \n",
       "66467           1.0  centro-oeste  \n",
       "66468           1.0  centro-oeste  \n",
       "66469           1.0  centro-oeste  "
      ]
     },
     "execution_count": 2,
     "metadata": {},
     "output_type": "execute_result"
    }
   ],
   "source": [
    "# Lendo e visualizando o dataset:\n",
    "df = pd.read_csv(r'./data/demografia.csv')\n",
    "display(df.head())\n",
    "df.tail()"
   ]
  },
  {
   "cell_type": "code",
   "execution_count": 3,
   "metadata": {
    "ExecuteTime": {
     "end_time": "2019-10-08T20:07:00.763961Z",
     "start_time": "2019-10-08T20:07:00.754961Z"
    }
   },
   "outputs": [
    {
     "data": {
      "text/html": [
       "<div>\n",
       "<style scoped>\n",
       "    .dataframe tbody tr th:only-of-type {\n",
       "        vertical-align: middle;\n",
       "    }\n",
       "\n",
       "    .dataframe tbody tr th {\n",
       "        vertical-align: top;\n",
       "    }\n",
       "\n",
       "    .dataframe thead th {\n",
       "        text-align: right;\n",
       "    }\n",
       "</style>\n",
       "<table border=\"1\" class=\"dataframe\">\n",
       "  <thead>\n",
       "    <tr style=\"text-align: right;\">\n",
       "      <th></th>\n",
       "      <th>seq</th>\n",
       "      <th>anos_estudo</th>\n",
       "      <th>regiao</th>\n",
       "    </tr>\n",
       "  </thead>\n",
       "  <tbody>\n",
       "    <tr>\n",
       "      <th>0</th>\n",
       "      <td>0</td>\n",
       "      <td>5.0</td>\n",
       "      <td>norte</td>\n",
       "    </tr>\n",
       "    <tr>\n",
       "      <th>1</th>\n",
       "      <td>1</td>\n",
       "      <td>8.0</td>\n",
       "      <td>norte</td>\n",
       "    </tr>\n",
       "    <tr>\n",
       "      <th>2</th>\n",
       "      <td>2</td>\n",
       "      <td>11.0</td>\n",
       "      <td>nordeste</td>\n",
       "    </tr>\n",
       "    <tr>\n",
       "      <th>3</th>\n",
       "      <td>3</td>\n",
       "      <td>15.0</td>\n",
       "      <td>norte</td>\n",
       "    </tr>\n",
       "    <tr>\n",
       "      <th>4</th>\n",
       "      <td>4</td>\n",
       "      <td>15.0</td>\n",
       "      <td>norte</td>\n",
       "    </tr>\n",
       "  </tbody>\n",
       "</table>\n",
       "</div>"
      ],
      "text/plain": [
       "   seq  anos_estudo    regiao\n",
       "0    0          5.0     norte\n",
       "1    1          8.0     norte\n",
       "2    2         11.0  nordeste\n",
       "3    3         15.0     norte\n",
       "4    4         15.0     norte"
      ]
     },
     "execution_count": 3,
     "metadata": {},
     "output_type": "execute_result"
    }
   ],
   "source": [
    "# Como nosso objetivo é comparar apenas duas colunas do dataset, anos_estudo e regiao, vamos desconsiderar as demais:\n",
    "df = df[['seq', 'anos_estudo', 'regiao']]\n",
    "df.head()"
   ]
  },
  {
   "cell_type": "code",
   "execution_count": 4,
   "metadata": {
    "ExecuteTime": {
     "end_time": "2019-10-08T20:07:00.795853Z",
     "start_time": "2019-10-08T20:07:00.764958Z"
    }
   },
   "outputs": [
    {
     "data": {
      "text/html": [
       "<div>\n",
       "<style scoped>\n",
       "    .dataframe tbody tr th:only-of-type {\n",
       "        vertical-align: middle;\n",
       "    }\n",
       "\n",
       "    .dataframe tbody tr th {\n",
       "        vertical-align: top;\n",
       "    }\n",
       "\n",
       "    .dataframe thead th {\n",
       "        text-align: right;\n",
       "    }\n",
       "</style>\n",
       "<table border=\"1\" class=\"dataframe\">\n",
       "  <thead>\n",
       "    <tr style=\"text-align: right;\">\n",
       "      <th></th>\n",
       "      <th>count</th>\n",
       "      <th>unique</th>\n",
       "      <th>top</th>\n",
       "      <th>freq</th>\n",
       "      <th>mean</th>\n",
       "      <th>std</th>\n",
       "      <th>min</th>\n",
       "      <th>25%</th>\n",
       "      <th>50%</th>\n",
       "      <th>75%</th>\n",
       "      <th>max</th>\n",
       "    </tr>\n",
       "  </thead>\n",
       "  <tbody>\n",
       "    <tr>\n",
       "      <th>seq</th>\n",
       "      <td>66470</td>\n",
       "      <td>NaN</td>\n",
       "      <td>NaN</td>\n",
       "      <td>NaN</td>\n",
       "      <td>33234.5</td>\n",
       "      <td>19188.4</td>\n",
       "      <td>0</td>\n",
       "      <td>16617.2</td>\n",
       "      <td>33234.5</td>\n",
       "      <td>49851.8</td>\n",
       "      <td>66469</td>\n",
       "    </tr>\n",
       "    <tr>\n",
       "      <th>anos_estudo</th>\n",
       "      <td>66036</td>\n",
       "      <td>NaN</td>\n",
       "      <td>NaN</td>\n",
       "      <td>NaN</td>\n",
       "      <td>8.68607</td>\n",
       "      <td>3.37452</td>\n",
       "      <td>5</td>\n",
       "      <td>5</td>\n",
       "      <td>8</td>\n",
       "      <td>11</td>\n",
       "      <td>15</td>\n",
       "    </tr>\n",
       "    <tr>\n",
       "      <th>regiao</th>\n",
       "      <td>66470</td>\n",
       "      <td>5</td>\n",
       "      <td>sudeste</td>\n",
       "      <td>25220</td>\n",
       "      <td>NaN</td>\n",
       "      <td>NaN</td>\n",
       "      <td>NaN</td>\n",
       "      <td>NaN</td>\n",
       "      <td>NaN</td>\n",
       "      <td>NaN</td>\n",
       "      <td>NaN</td>\n",
       "    </tr>\n",
       "  </tbody>\n",
       "</table>\n",
       "</div>"
      ],
      "text/plain": [
       "             count unique      top   freq     mean      std  min      25%  \\\n",
       "seq          66470    NaN      NaN    NaN  33234.5  19188.4    0  16617.2   \n",
       "anos_estudo  66036    NaN      NaN    NaN  8.68607  3.37452    5        5   \n",
       "regiao       66470      5  sudeste  25220      NaN      NaN  NaN      NaN   \n",
       "\n",
       "                 50%      75%    max  \n",
       "seq          33234.5  49851.8  66469  \n",
       "anos_estudo        8       11     15  \n",
       "regiao           NaN      NaN    NaN  "
      ]
     },
     "execution_count": 4,
     "metadata": {},
     "output_type": "execute_result"
    }
   ],
   "source": [
    "df.describe(include='all').T"
   ]
  },
  {
   "cell_type": "markdown",
   "metadata": {},
   "source": [
    "Importante notar que ocorrem alguns valores nulos em anos_estudo, mas não em região. Vamos analisar cada variável individualmente."
   ]
  },
  {
   "cell_type": "markdown",
   "metadata": {},
   "source": [
    "### Explorando anos_estudo:"
   ]
  },
  {
   "cell_type": "code",
   "execution_count": 5,
   "metadata": {
    "ExecuteTime": {
     "end_time": "2019-10-08T20:07:01.149935Z",
     "start_time": "2019-10-08T20:07:00.796849Z"
    }
   },
   "outputs": [
    {
     "data": {
      "image/png": "[encoded data removed]",
      "text/plain": [
       "<Figure size 1296x504 with 2 Axes>"
      ]
     },
     "metadata": {
      "needs_background": "light"
     },
     "output_type": "display_data"
    }
   ],
   "source": [
    "# Visualizando a distribuição:\n",
    "fig, ax = plt.subplots(1, 2, figsize=(18, 7))\n",
    "\n",
    "ax[0].hist(df.anos_estudo.dropna(), bins=20, range=(0, 20), ec=HIST_ec)\n",
    "\n",
    "utils.set_plot_details(axs=ax[0],\n",
    "                       title='Distribuição anos_estudo',\n",
    "                       title_fontsize=20,\n",
    "                       xticks=range(0, 21),\n",
    "                       xlabel='Anos de estudo',\n",
    "                       xlabel_fontsize=12,\n",
    "                       ylabel='Número de Indivíduos',\n",
    "                       ylabel_fontsize=12)\n",
    "\n",
    "ax[1].hist(df.anos_estudo.dropna(), cumulative=-\n",
    "           1, bins=10, range=(5, 20), ec=HIST_ec)\n",
    "\n",
    "utils.set_plot_details(axs=ax[1],\n",
    "                       title='Distribuição acumulada reversa anos_estudo',\n",
    "                       title_fontsize=20,\n",
    "                       xticks=range(0, 21),\n",
    "                       xlabel='Anos de estudo',\n",
    "                       xlabel_fontsize=12,\n",
    "                       ylabel='Número de Indivíduos',\n",
    "                       ylabel_fontsize=12)\n",
    "\n",
    "plt.show()"
   ]
  },
  {
   "cell_type": "markdown",
   "metadata": {},
   "source": [
    "&rarr; Aqui vale um comentário mais detalhado. Alguns pontos a serem observados:\n",
    "\n",
    "1) A ocorrência dos picos no primeiro histograma deve-se aos ciclos de ensino no Brasil. 5 anos corresponde ao Ensino Fundamental I completo, 8 anos corresponde ao Ensino Fundamental II completo, 11 anos de estudo correspondem ao Ensino Médio completo e 14 e 15 anos de estudo correspondem ao Ensino Superior Completo.\n",
    "\n",
    "2) O segundo histograma representa a distribuição acumulada, ou seja, quantos indivíduos têm pelo menos X anos de estudo, já que  quem estudou por 6 anos também estudou por 5 e assim por diante.\n",
    "\n",
    "3) Em um país como o Brasil, em que 7% da população ainda é analfabeta (PNAD 2017), parece estranho que, em uma amostra com 66000 observações, nenhum indivíduo tenha menos do que 5 anos de estudo. Da mesma forma, parece estranho que nenhum indivíduo tenha mais do que 15 anos de estudo. Isso indica um viés em potencial na pesquisa.\n",
    "\n"
   ]
  },
  {
   "cell_type": "code",
   "execution_count": 6,
   "metadata": {
    "ExecuteTime": {
     "end_time": "2019-10-08T20:07:01.157914Z",
     "start_time": "2019-10-08T20:07:01.150900Z"
    }
   },
   "outputs": [
    {
     "name": "stdout",
     "output_type": "stream",
     "text": [
      "Os valores nulos correspondem a apenas 0.65% dos valores da coluna 'anos_estudo'.\n"
     ]
    }
   ],
   "source": [
    "# Nulos:\n",
    "null_percentage = df['anos_estudo'].isnull().sum()/df.shape[0] * 100\n",
    "print(\n",
    "    'Os valores nulos correspondem a apenas {:.2f}% dos valores da coluna \\'anos_estudo\\'.'.format(null_percentage))"
   ]
  },
  {
   "cell_type": "code",
   "execution_count": 7,
   "metadata": {
    "ExecuteTime": {
     "end_time": "2019-10-08T20:07:01.189829Z",
     "start_time": "2019-10-08T20:07:01.159878Z"
    }
   },
   "outputs": [],
   "source": [
    "# Como os valores nulos correspondem a uma fração muito pequena do Dataset,\n",
    "# vamos optar por desconsiderá-los uma vez que não é possível inferir a que se referem.\n",
    "df.dropna(subset=['anos_estudo'], inplace=True)"
   ]
  },
  {
   "cell_type": "markdown",
   "metadata": {},
   "source": [
    "### Explorando 'região'"
   ]
  },
  {
   "cell_type": "code",
   "execution_count": 8,
   "metadata": {
    "ExecuteTime": {
     "end_time": "2019-10-08T20:07:01.311505Z",
     "start_time": "2019-10-08T20:07:01.190820Z"
    }
   },
   "outputs": [
    {
     "data": {
      "image/png": "[encoded data removed]",
      "text/plain": [
       "<Figure size 576x432 with 1 Axes>"
      ]
     },
     "metadata": {
      "needs_background": "light"
     },
     "output_type": "display_data"
    }
   ],
   "source": [
    "# Visualizando a distribuição de indivíduos nas regiões do Brasil na amostra:\n",
    "fig, ax = plt.subplots(figsize=(8, 6))\n",
    "\n",
    "df.regiao.value_counts().plot(ax=ax, kind='bar', ec=HIST_ec)\n",
    "\n",
    "utils.set_plot_details(axs=ax,\n",
    "                       title='Distribuição da população em função da região',\n",
    "                       title_fontsize=20,\n",
    "                       xlabel='Região',\n",
    "                       xlabel_fontsize=12,\n",
    "                       ylabel='Número de Indivíduos',\n",
    "                       ylabel_fontsize=12)\n",
    "\n",
    "plt.show()"
   ]
  },
  {
   "cell_type": "markdown",
   "metadata": {},
   "source": [
    "&rarr; Aqui podemos perceber mais um problema da amostra. Pouquíssimos indivíduos da região nordeste. Mais uma prova de que essa amostra é enviesada e não é representativa da população brasileira."
   ]
  },
  {
   "cell_type": "code",
   "execution_count": 9,
   "metadata": {
    "ExecuteTime": {
     "end_time": "2019-10-08T20:07:01.320478Z",
     "start_time": "2019-10-08T20:07:01.312468Z"
    }
   },
   "outputs": [
    {
     "data": {
      "text/plain": [
       "sudeste         25111\n",
       "centro-oeste    14652\n",
       "norte           14555\n",
       "sul             11713\n",
       "nordeste            5\n",
       "Name: regiao, dtype: int64"
      ]
     },
     "execution_count": 9,
     "metadata": {},
     "output_type": "execute_result"
    }
   ],
   "source": [
    "df.regiao.value_counts()"
   ]
  },
  {
   "cell_type": "markdown",
   "metadata": {},
   "source": [
    "De fato, apenas 5 indivíduos da região Nordeste. Como essa quantidade de indivíduos não é nem um pouco representativa, vamos optar por excluir a região das análises. Assim:"
   ]
  },
  {
   "cell_type": "code",
   "execution_count": 10,
   "metadata": {
    "ExecuteTime": {
     "end_time": "2019-10-08T20:07:01.340423Z",
     "start_time": "2019-10-08T20:07:01.321446Z"
    }
   },
   "outputs": [],
   "source": [
    "# Removendo a região nordeste:\n",
    "df = df.loc[df['regiao']!='nordeste']"
   ]
  },
  {
   "cell_type": "markdown",
   "metadata": {},
   "source": [
    "### Explorando anos_estudo vs região:"
   ]
  },
  {
   "cell_type": "code",
   "execution_count": 11,
   "metadata": {
    "ExecuteTime": {
     "end_time": "2019-10-08T20:07:01.953753Z",
     "start_time": "2019-10-08T20:07:01.341404Z"
    }
   },
   "outputs": [
    {
     "data": {
      "image/png": "[encoded data removed]",
      "text/plain": [
       "<Figure size 1080x576 with 4 Axes>"
      ]
     },
     "metadata": {
      "needs_background": "light"
     },
     "output_type": "display_data"
    }
   ],
   "source": [
    "regions = iter(df.regiao.unique())\n",
    "colors = iter(['darkblue', 'darkred', 'darkgreen', 'orange'])\n",
    "fig, axs = plt.subplots(2, 2, figsize=(15, 8))\n",
    "\n",
    "for ax in axs.flat:\n",
    "    region = next(regions)\n",
    "    color_ = next(colors)\n",
    "\n",
    "    ax.hist(df.loc[df['regiao'] == region, 'anos_estudo'],\n",
    "            bins=10, ec=HIST_ec, density=True, color=color_)\n",
    "\n",
    "    utils.set_plot_details(axs=ax,\n",
    "                           title='Região '+region.capitalize(),\n",
    "                           title_fontsize=15,\n",
    "                           xticks=range(5, 16),\n",
    "                           xlabel='Anos de estudo',\n",
    "                           ylabel='Número de Indivíduos',\n",
    "                           grid=True,\n",
    "                           legend=[region.capitalize()])\n",
    "\n",
    "plt.tight_layout()\n",
    "plt.show()"
   ]
  },
  {
   "cell_type": "markdown",
   "metadata": {},
   "source": [
    "&rarr; Os histogramas dispostos acima são normalizados pelo tamanho da amostra, de forma que nos permitem comparar as distribuições das regiões. Novamente os picos se repetem nos anos que marcam fins dos ciclos de educação. Podemos notar, por exemplo, que a proporção de indivíduos que fizeram apenas o Ensino Fundamental I é maior na região Norte, com relação as demais. Além disso, pode-se perceber que, talvez como consequência da situação descrita, a proporção de indivíduos que conclui o ensino superior na região Norte é menor que nas demais. Aparentemente, a região cuja população mais conclui o ensino superior parece ser a região Sul, ainda que a diferença com relação a Sudeste e Centro-Oeste seja muito pequena."
   ]
  },
  {
   "cell_type": "markdown",
   "metadata": {},
   "source": [
    "## Análise Estatística:\n",
    "\n",
    "Já vimos que a amostra da qual dispomos não é representativa da população brasileira, uma vez não há muitos indivíduos da região nordeste e os anos de estudo não estão bem distribuídos. Contudo, para efeito didático, vamos considerar como se a amostra fosse representativa e seguir com a análise."
   ]
  },
  {
   "cell_type": "markdown",
   "metadata": {},
   "source": [
    "### Teorema do Limite Central (TLC):\n",
    "\n",
    "Conforme vimos nos histogramas plotados anteriormente, a distribuição da população em função do número de anos de estudo não se comporta como uma distribuição normal. Contudo, os testes estatísticos mais robustos têm como premissa que a distribuição seja uma distribuição normal.\n",
    "\n",
    "O Teorema do Limite Central surge para ajudar nesse sentido. Segundo este teorema, dada uma população, se tomarmos um número suficientemente grande de amostras (n_sample) de tamanho suficientemente grande (sample_size), a distribuição das médias de cada amostra se comportará como uma distribuição normal, cuja média se aproxima da média da população e cujo desvio padrão se aproxima do desvio padrão da população dividido pelo tamanho da amostra.\n",
    "\n",
    "No nosso caso, usaremos o Teorema do Limite Central para criar uma distribuição normal que represente a distribuição de anos de estudo da população brasileira e também para criar distribuições normais que representam os anos de estudo das populações de cada uma das quatro regiões analisadas."
   ]
  },
  {
   "cell_type": "code",
   "execution_count": 12,
   "metadata": {
    "ExecuteTime": {
     "end_time": "2019-10-08T20:07:01.958741Z",
     "start_time": "2019-10-08T20:07:01.954753Z"
    }
   },
   "outputs": [],
   "source": [
    "# Instanciando analisador que contém as funções a serem utilizadas a seguir:\n",
    "anl = utils.Stat_Analizer_TLC(alpha=0.95, sample_size=500, n_sample=10000)"
   ]
  },
  {
   "cell_type": "code",
   "execution_count": 13,
   "metadata": {
    "ExecuteTime": {
     "end_time": "2019-10-08T20:09:38.064125Z",
     "start_time": "2019-10-08T20:07:01.959752Z"
    }
   },
   "outputs": [],
   "source": [
    "# Transformando as distribuições em distribuições normais via TLC\n",
    "dist_brasil = anl.sample_means(df['anos_estudo'])\n",
    "\n",
    "dist_norte = anl.sample_means(df.loc[df['regiao'] == 'norte', 'anos_estudo'])\n",
    "\n",
    "dist_co = anl.sample_means(\n",
    "    df.loc[df['regiao'] == 'centro-oeste', 'anos_estudo'])\n",
    "\n",
    "dist_sul = anl.sample_means(df.loc[df['regiao'] == 'sul', 'anos_estudo'])\n",
    "\n",
    "dist_sudeste = anl.sample_means(\n",
    "    df.loc[df['regiao'] == 'sudeste', 'anos_estudo'])"
   ]
  },
  {
   "cell_type": "code",
   "execution_count": 14,
   "metadata": {
    "ExecuteTime": {
     "end_time": "2019-10-08T20:09:39.196095Z",
     "start_time": "2019-10-08T20:09:38.065124Z"
    }
   },
   "outputs": [
    {
     "data": {
      "image/png": "[encoded data removed]",
      "text/plain": [
       "<Figure size 1080x1080 with 5 Axes>"
      ]
     },
     "metadata": {
      "needs_background": "light"
     },
     "output_type": "display_data"
    }
   ],
   "source": [
    "# Visualizando as novas distribuições:\n",
    "\n",
    "# Definindo iteráveis\n",
    "distribuitions = [dist_brasil, dist_norte, dist_co, dist_sul, dist_sudeste]\n",
    "colors = ['darkblue', 'darkred', 'darkgreen', 'orange', 'purple']\n",
    "regions = ['Brasil', 'Região Norte',\n",
    "           'Região Centro-Oeste', 'Região Sul', 'Região Sudeste']\n",
    "ax = {}\n",
    "\n",
    "# Criando o plot grid\n",
    "plt.figure(figsize=(15, 15))\n",
    "grid = plt.GridSpec(4, 2, hspace=0.4, wspace=0.4)\n",
    "\n",
    "ax[0] = plt.subplot(grid[0:2, 0:2])\n",
    "ax[1] = plt.subplot(grid[2, 0])\n",
    "ax[2] = plt.subplot(grid[2, 1])\n",
    "ax[3] = plt.subplot(grid[3, 0])\n",
    "ax[4] = plt.subplot(grid[3, 1])\n",
    "\n",
    "# Plotando as distribuições\n",
    "for i in range(len(distribuitions)):\n",
    "    sns.distplot(distribuitions[i], ax=ax[i], color=colors[i], norm_hist=True)\n",
    "\n",
    "    utils.set_plot_details(axs=ax[i],\n",
    "                           title=regions[i],\n",
    "                           title_fontsize=15,\n",
    "                           legend=[regions[i]])"
   ]
  },
  {
   "cell_type": "code",
   "execution_count": 15,
   "metadata": {
    "ExecuteTime": {
     "end_time": "2019-10-08T20:09:39.205040Z",
     "start_time": "2019-10-08T20:09:39.197060Z"
    }
   },
   "outputs": [
    {
     "name": "stdout",
     "output_type": "stream",
     "text": [
      "Distribuição de Brasil: Curtose = 3.045\n",
      "Distribuição de Região Norte: Curtose = 3.006\n",
      "Distribuição de Região Centro-Oeste: Curtose = 3.006\n",
      "Distribuição de Região Sul: Curtose = 2.921\n",
      "Distribuição de Região Sudeste: Curtose = 2.927\n"
     ]
    }
   ],
   "source": [
    "# Verificando a curtose das distribuições:\n",
    "for i in range(len(distribuitions)):\n",
    "    anl.kurtosis_check(dist=distribuitions[i], title=regions[i])"
   ]
  },
  {
   "cell_type": "markdown",
   "metadata": {},
   "source": [
    "Agora sim as distribuições se aproximam mais de distribuições normais, como evidenciado pelos plots e pela verificação da curtose (lembrando que a curtose da distribuição normal é 3,0) e podemos seguir com a aplicação de testes estatísticos."
   ]
  },
  {
   "cell_type": "markdown",
   "metadata": {},
   "source": [
    "### Testes estatísticos:\n",
    "\n",
    "Dispondo de distribuições normais, vamos agora aplicar um teste t comparando as médias da região com a média da população brasileira e, em seguida, aplicar um novo teste t comparando as regiões entre si.\n",
    "\n",
    "As regiões do Brasil podem ser interpretadas como amostras da população brasielira, então, no primeiro caso, usaremos uma modalidade do teste t que compara a amostra com a população.\n",
    "\n",
    "Já a comparação entre regiões, trata-se de uma modalidade do teste t para comparação de amostras independentes. Como elas são derivadas da mesma população, adotaremos como verdadeira a hipótese de que a variância das populações de origem são idênticas.\n",
    "\n",
    "Vamos aos testes!"
   ]
  },
  {
   "cell_type": "markdown",
   "metadata": {},
   "source": [
    "#### Testando regiões contra a população brasileira:"
   ]
  },
  {
   "cell_type": "code",
   "execution_count": 16,
   "metadata": {
    "ExecuteTime": {
     "end_time": "2019-10-08T20:09:39.225983Z",
     "start_time": "2019-10-08T20:09:39.206036Z"
    }
   },
   "outputs": [
    {
     "name": "stdout",
     "output_type": "stream",
     "text": [
      ">>> Região Norte:\n",
      "Média: 8.314\n",
      "Intervalo de confiança: 8.665 <------------> 8.708\n",
      "p-valor = 0.000\n",
      "Resultado:  A amostra é estatisticamente diferente da população! (rejeitamos a hipótese nula).\n",
      "\n",
      "\n",
      ">>> Região Centro-Oeste:\n",
      "Média: 8.644\n",
      "Intervalo de confiança: 8.665 <------------> 8.708\n",
      "p-valor = 0.000\n",
      "Resultado:  A amostra é estatisticamente diferente da população! (rejeitamos a hipótese nula).\n",
      "\n",
      "\n",
      ">>> Região Sul:\n",
      "Média: 8.736\n",
      "Intervalo de confiança: 8.665 <------------> 8.708\n",
      "p-valor = 0.000\n",
      "Resultado:  A amostra é estatisticamente diferente da população! (rejeitamos a hipótese nula).\n",
      "\n",
      "\n",
      ">>> Região Sudeste:\n",
      "Média: 8.901\n",
      "Intervalo de confiança: 8.665 <------------> 8.708\n",
      "p-valor = 0.000\n",
      "Resultado:  A amostra é estatisticamente diferente da população! (rejeitamos a hipótese nula).\n"
     ]
    }
   ],
   "source": [
    "# Realizando teste t para comparação das regiões com a populaçõo nacional:\n",
    "for i in range(1, 5):\n",
    "    anl.perform_t_test_1_sample(distribuitions[i], dist_brasil, regions[i])\n",
    "    \n",
    "    if i < 4:\n",
    "        print('\\n')"
   ]
  },
  {
   "cell_type": "markdown",
   "metadata": {},
   "source": [
    "Conforme evidenciado pelo teste acima, podemos afirmar, com 95% de certeza, que a média de anos de estudo das populações de cada região é estatisticamente diferente da média nacional. Mais do que isso, a partir dos resultados obtidos, podemos afimar que a média de anos de estudo das regiões sul e sudeste é superior à média nacional, uma vez que a média das distribuições é mais alta que o limite superior do intervalo de confiança delimitado a partir da distribuição nacional. Além disso, podemos inferir também que a média de anos de estudo das regiões norte e centro-oeste é mais baixa que a média nacional, dado que as médias das distribuições dessas regiões é menor que o limite inferior do referido intervalo de confiança."
   ]
  },
  {
   "cell_type": "markdown",
   "metadata": {},
   "source": [
    "#### Testando as regiões entre si:"
   ]
  },
  {
   "cell_type": "code",
   "execution_count": 17,
   "metadata": {
    "ExecuteTime": {
     "end_time": "2019-10-08T20:09:39.260922Z",
     "start_time": "2019-10-08T20:09:39.226981Z"
    }
   },
   "outputs": [
    {
     "name": "stdout",
     "output_type": "stream",
     "text": [
      "Analisando Região Norte contra Região Centro-Oeste:\n",
      ">>> Região Norte:\n",
      "Média: 8.314\n",
      "Intervalo de confiança: 8.293 <------------> 8.334\n",
      ">>> Região Centro-Oeste:\n",
      "Média: 8.644\n",
      "Intervalo de confiança: 8.622 <------------> 8.665\n",
      ">>> Resultado:\n",
      "p-valor = 0.000\n",
      "Conclusão:  As amostra são estatisticamente diferentes entre si! (rejeitamos a hipótese nula).\n",
      "\n",
      "\n",
      "Analisando Região Norte contra Região Sul:\n",
      ">>> Região Norte:\n",
      "Média: 8.314\n",
      "Intervalo de confiança: 8.293 <------------> 8.334\n",
      ">>> Região Sul:\n",
      "Média: 8.736\n",
      "Intervalo de confiança: 8.714 <------------> 8.759\n",
      ">>> Resultado:\n",
      "p-valor = 0.000\n",
      "Conclusão:  As amostra são estatisticamente diferentes entre si! (rejeitamos a hipótese nula).\n",
      "\n",
      "\n",
      "Analisando Região Norte contra Região Sudeste:\n",
      ">>> Região Norte:\n",
      "Média: 8.314\n",
      "Intervalo de confiança: 8.293 <------------> 8.334\n",
      ">>> Região Sudeste:\n",
      "Média: 8.901\n",
      "Intervalo de confiança: 8.879 <------------> 8.922\n",
      ">>> Resultado:\n",
      "p-valor = 0.000\n",
      "Conclusão:  As amostra são estatisticamente diferentes entre si! (rejeitamos a hipótese nula).\n",
      "\n",
      "\n",
      "Analisando Região Centro-Oeste contra Região Sul:\n",
      ">>> Região Centro-Oeste:\n",
      "Média: 8.644\n",
      "Intervalo de confiança: 8.622 <------------> 8.665\n",
      ">>> Região Sul:\n",
      "Média: 8.736\n",
      "Intervalo de confiança: 8.714 <------------> 8.759\n",
      ">>> Resultado:\n",
      "p-valor = 0.000\n",
      "Conclusão:  As amostra são estatisticamente diferentes entre si! (rejeitamos a hipótese nula).\n",
      "\n",
      "\n",
      "Analisando Região Centro-Oeste contra Região Sudeste:\n",
      ">>> Região Centro-Oeste:\n",
      "Média: 8.644\n",
      "Intervalo de confiança: 8.622 <------------> 8.665\n",
      ">>> Região Sudeste:\n",
      "Média: 8.901\n",
      "Intervalo de confiança: 8.879 <------------> 8.922\n",
      ">>> Resultado:\n",
      "p-valor = 0.000\n",
      "Conclusão:  As amostra são estatisticamente diferentes entre si! (rejeitamos a hipótese nula).\n",
      "\n",
      "\n",
      "Analisando Região Sul contra Região Sudeste:\n",
      ">>> Região Sul:\n",
      "Média: 8.736\n",
      "Intervalo de confiança: 8.714 <------------> 8.759\n",
      ">>> Região Sudeste:\n",
      "Média: 8.901\n",
      "Intervalo de confiança: 8.879 <------------> 8.922\n",
      ">>> Resultado:\n",
      "p-valor = 0.000\n",
      "Conclusão:  As amostra são estatisticamente diferentes entre si! (rejeitamos a hipótese nula).\n",
      "\n",
      "\n"
     ]
    }
   ],
   "source": [
    "# Aplicando o teste t para as regiões tomadas aos pares:\n",
    "from itertools import combinations\n",
    "\n",
    "for i, j in combinations(range(1, len(distribuitions)), 2):\n",
    "    anl.perform_t_test_2_sample(\n",
    "        dist1=distribuitions[i], dist2=distribuitions[j], title1=regions[i], title2=regions[j])\n",
    "    \n",
    "    if i < 4:\n",
    "        print('\\n')"
   ]
  },
  {
   "cell_type": "markdown",
   "metadata": {},
   "source": [
    "De fato, as regiões também são estatisticamente diferentes entre si, como evidenciado pelo Teste t. "
   ]
  },
  {
   "cell_type": "markdown",
   "metadata": {},
   "source": [
    "## Conclusão:\n",
    "\n",
    "A partir das análises realizadas acima, podemos, finalmmente, responder à pergunta proposta no objetivo: Sim, as regiões do Brasil apresentam escolaridades média diferentes da média nacional e também diferentes entre si. A região Sudeste e a região Sul apresentam escolaridades acima da média nacional, enquanto que as regiões Centro-Oeste e Norte apresentam escolaridade abaixo da média nacional. Além disso, podemos rankear as regiões de acordo com a escolaridade média de sua população, como abaixo:\n",
    "\n",
    "1) Região Sudeste: média de anos de estudo da população: 8,9 anos;\n",
    "\n",
    "2) Região Sul: média de anos de estudo da população: 8,7 anos;\n",
    "\n",
    "3) Região Centro-Oeste: média de anos de estudo da população: 8,6 anos;\n",
    "\n",
    "4) Região Norte: média de anos de estudo da população: 8,3 anos;\n",
    "\n",
    "Nada pôde ser inferido com relação à região Nordeste por causa de um problema de amostragem, dado que a amostra populacional contava com apenas 5 indíviduos da referida região."
   ]
  },
  {
   "cell_type": "code",
   "execution_count": null,
   "metadata": {},
   "outputs": [],
   "source": []
  }
 ],
 "metadata": {
  "kernelspec": {
   "display_name": "Python 3",
   "language": "python",
   "name": "python3"
  },
  "language_info": {
   "codemirror_mode": {
    "name": "ipython",
    "version": 3
   },
   "file_extension": ".py",
   "mimetype": "text/x-python",
   "name": "python",
   "nbconvert_exporter": "python",
   "pygments_lexer": "ipython3",
   "version": "3.7.3"
  },
  "toc": {
   "base_numbering": 1,
   "nav_menu": {},
   "number_sections": true,
   "sideBar": true,
   "skip_h1_title": true,
   "title_cell": "Table of Contents",
   "title_sidebar": "Contents",
   "toc_cell": false,
   "toc_position": {
    "height": "calc(100% - 180px)",
    "left": "10px",
    "top": "150px",
    "width": "307.2px"
   },
   "toc_section_display": true,
   "toc_window_display": true
  }
 },
 "nbformat": 4,
 "nbformat_minor": 2
}
