{
 "cells": [
  {
   "cell_type": "markdown",
   "metadata": {},
   "source": [
    "# Análise estatística dos dados do IBGE\n",
    "\n",
    "No presente trabalho, faremos uma análise bem específica do Dataset do PNAD do IBGE 2010, buscando responder uma pergunta de negócio. Este trabalho foi proposto como desafio no primeiro módulo do curso de Data Science da Digital House e, abaixo, apresento a solução desenvolvida por mim."
   ]
  },
  {
   "cell_type": "markdown",
   "metadata": {},
   "source": [
    "## Objetivo &mdash; A pergunta de negócio:\n",
    "\n",
    "A pergunta escolhida, a qual será respondida ao final da análise, foi:\n",
    "\n",
    "**\"As regiões do Brasil apresentam escolaridades médias (estatisticamente) diferentes?\"**"
   ]
  },
  {
   "cell_type": "code",
   "execution_count": 97,
   "metadata": {},
   "outputs": [],
   "source": [
    "# Importando bibliotecas\n",
    "\n",
    "import pandas as pd\n",
    "import numpy as np\n",
    "import matplotlib.pyplot as plt\n",
    "import scipy.stats as st\n",
    "import seaborn as sns"
   ]
  },
  {
   "cell_type": "markdown",
   "metadata": {},
   "source": [
    "## EDA "
   ]
  },
  {
   "cell_type": "code",
   "execution_count": 98,
   "metadata": {},
   "outputs": [
    {
     "data": {
      "text/html": [
       "<div>\n",
       "<style scoped>\n",
       "    .dataframe tbody tr th:only-of-type {\n",
       "        vertical-align: middle;\n",
       "    }\n",
       "\n",
       "    .dataframe tbody tr th {\n",
       "        vertical-align: top;\n",
       "    }\n",
       "\n",
       "    .dataframe thead th {\n",
       "        text-align: right;\n",
       "    }\n",
       "</style>\n",
       "<table border=\"1\" class=\"dataframe\">\n",
       "  <thead>\n",
       "    <tr style=\"text-align: right;\">\n",
       "      <th></th>\n",
       "      <th>seq</th>\n",
       "      <th>id</th>\n",
       "      <th>idade</th>\n",
       "      <th>sexo</th>\n",
       "      <th>anos_estudo</th>\n",
       "      <th>cor/raca</th>\n",
       "      <th>salario</th>\n",
       "      <th>estado_civil</th>\n",
       "      <th>regiao</th>\n",
       "    </tr>\n",
       "  </thead>\n",
       "  <tbody>\n",
       "    <tr>\n",
       "      <th>0</th>\n",
       "      <td>0</td>\n",
       "      <td>1.100190e+10</td>\n",
       "      <td>53</td>\n",
       "      <td>homem</td>\n",
       "      <td>5.0</td>\n",
       "      <td>Parda</td>\n",
       "      <td>63600.000000</td>\n",
       "      <td>1.0</td>\n",
       "      <td>norte</td>\n",
       "    </tr>\n",
       "    <tr>\n",
       "      <th>1</th>\n",
       "      <td>1</td>\n",
       "      <td>1.100190e+10</td>\n",
       "      <td>49</td>\n",
       "      <td>mulher</td>\n",
       "      <td>8.0</td>\n",
       "      <td>Amarela</td>\n",
       "      <td>NaN</td>\n",
       "      <td>1.0</td>\n",
       "      <td>norte</td>\n",
       "    </tr>\n",
       "    <tr>\n",
       "      <th>2</th>\n",
       "      <td>2</td>\n",
       "      <td>1.100190e+10</td>\n",
       "      <td>22</td>\n",
       "      <td>mulher</td>\n",
       "      <td>11.0</td>\n",
       "      <td>Indigena</td>\n",
       "      <td>4352.400391</td>\n",
       "      <td>0.0</td>\n",
       "      <td>nordeste</td>\n",
       "    </tr>\n",
       "    <tr>\n",
       "      <th>3</th>\n",
       "      <td>3</td>\n",
       "      <td>1.100190e+10</td>\n",
       "      <td>55</td>\n",
       "      <td>homem</td>\n",
       "      <td>15.0</td>\n",
       "      <td>Amarela</td>\n",
       "      <td>96600.000000</td>\n",
       "      <td>1.0</td>\n",
       "      <td>norte</td>\n",
       "    </tr>\n",
       "    <tr>\n",
       "      <th>4</th>\n",
       "      <td>4</td>\n",
       "      <td>1.100190e+10</td>\n",
       "      <td>56</td>\n",
       "      <td>mulher</td>\n",
       "      <td>15.0</td>\n",
       "      <td>Amarela</td>\n",
       "      <td>157800.000000</td>\n",
       "      <td>1.0</td>\n",
       "      <td>norte</td>\n",
       "    </tr>\n",
       "  </tbody>\n",
       "</table>\n",
       "</div>"
      ],
      "text/plain": [
       "   seq            id  idade    sexo  anos_estudo  cor/raca        salario  \\\n",
       "0    0  1.100190e+10     53   homem          5.0     Parda   63600.000000   \n",
       "1    1  1.100190e+10     49  mulher          8.0   Amarela            NaN   \n",
       "2    2  1.100190e+10     22  mulher         11.0  Indigena    4352.400391   \n",
       "3    3  1.100190e+10     55   homem         15.0   Amarela   96600.000000   \n",
       "4    4  1.100190e+10     56  mulher         15.0   Amarela  157800.000000   \n",
       "\n",
       "   estado_civil    regiao  \n",
       "0           1.0     norte  \n",
       "1           1.0     norte  \n",
       "2           0.0  nordeste  \n",
       "3           1.0     norte  \n",
       "4           1.0     norte  "
      ]
     },
     "metadata": {},
     "output_type": "display_data"
    },
    {
     "data": {
      "text/html": [
       "<div>\n",
       "<style scoped>\n",
       "    .dataframe tbody tr th:only-of-type {\n",
       "        vertical-align: middle;\n",
       "    }\n",
       "\n",
       "    .dataframe tbody tr th {\n",
       "        vertical-align: top;\n",
       "    }\n",
       "\n",
       "    .dataframe thead th {\n",
       "        text-align: right;\n",
       "    }\n",
       "</style>\n",
       "<table border=\"1\" class=\"dataframe\">\n",
       "  <thead>\n",
       "    <tr style=\"text-align: right;\">\n",
       "      <th></th>\n",
       "      <th>seq</th>\n",
       "      <th>id</th>\n",
       "      <th>idade</th>\n",
       "      <th>sexo</th>\n",
       "      <th>anos_estudo</th>\n",
       "      <th>cor/raca</th>\n",
       "      <th>salario</th>\n",
       "      <th>estado_civil</th>\n",
       "      <th>regiao</th>\n",
       "    </tr>\n",
       "  </thead>\n",
       "  <tbody>\n",
       "    <tr>\n",
       "      <th>66465</th>\n",
       "      <td>66465</td>\n",
       "      <td>5.311702e+10</td>\n",
       "      <td>34</td>\n",
       "      <td>mulher</td>\n",
       "      <td>5.0</td>\n",
       "      <td>Branca</td>\n",
       "      <td>NaN</td>\n",
       "      <td>1.0</td>\n",
       "      <td>centro-oeste</td>\n",
       "    </tr>\n",
       "    <tr>\n",
       "      <th>66466</th>\n",
       "      <td>66466</td>\n",
       "      <td>5.311702e+10</td>\n",
       "      <td>40</td>\n",
       "      <td>homem</td>\n",
       "      <td>5.0</td>\n",
       "      <td>Parda</td>\n",
       "      <td>2425.000000</td>\n",
       "      <td>1.0</td>\n",
       "      <td>centro-oeste</td>\n",
       "    </tr>\n",
       "    <tr>\n",
       "      <th>66467</th>\n",
       "      <td>66467</td>\n",
       "      <td>5.311702e+10</td>\n",
       "      <td>36</td>\n",
       "      <td>mulher</td>\n",
       "      <td>5.0</td>\n",
       "      <td>Parda</td>\n",
       "      <td>2425.000000</td>\n",
       "      <td>1.0</td>\n",
       "      <td>centro-oeste</td>\n",
       "    </tr>\n",
       "    <tr>\n",
       "      <th>66468</th>\n",
       "      <td>66468</td>\n",
       "      <td>5.311702e+10</td>\n",
       "      <td>27</td>\n",
       "      <td>mulher</td>\n",
       "      <td>5.0</td>\n",
       "      <td>Branca</td>\n",
       "      <td>5524.200195</td>\n",
       "      <td>1.0</td>\n",
       "      <td>centro-oeste</td>\n",
       "    </tr>\n",
       "    <tr>\n",
       "      <th>66469</th>\n",
       "      <td>66469</td>\n",
       "      <td>5.311702e+10</td>\n",
       "      <td>37</td>\n",
       "      <td>homem</td>\n",
       "      <td>5.0</td>\n",
       "      <td>Preta</td>\n",
       "      <td>460.350006</td>\n",
       "      <td>1.0</td>\n",
       "      <td>centro-oeste</td>\n",
       "    </tr>\n",
       "  </tbody>\n",
       "</table>\n",
       "</div>"
      ],
      "text/plain": [
       "         seq            id  idade    sexo  anos_estudo cor/raca      salario  \\\n",
       "66465  66465  5.311702e+10     34  mulher          5.0   Branca          NaN   \n",
       "66466  66466  5.311702e+10     40   homem          5.0    Parda  2425.000000   \n",
       "66467  66467  5.311702e+10     36  mulher          5.0    Parda  2425.000000   \n",
       "66468  66468  5.311702e+10     27  mulher          5.0   Branca  5524.200195   \n",
       "66469  66469  5.311702e+10     37   homem          5.0    Preta   460.350006   \n",
       "\n",
       "       estado_civil        regiao  \n",
       "66465           1.0  centro-oeste  \n",
       "66466           1.0  centro-oeste  \n",
       "66467           1.0  centro-oeste  \n",
       "66468           1.0  centro-oeste  \n",
       "66469           1.0  centro-oeste  "
      ]
     },
     "execution_count": 98,
     "metadata": {},
     "output_type": "execute_result"
    }
   ],
   "source": [
    "# Lendo e visualizando o dataset:\n",
    "\n",
    "df = pd.read_csv(r'./data/demografia.csv')\n",
    "display(df.head())\n",
    "df.tail()"
   ]
  },
  {
   "cell_type": "code",
   "execution_count": 102,
   "metadata": {},
   "outputs": [
    {
     "data": {
      "text/html": [
       "<div>\n",
       "<style scoped>\n",
       "    .dataframe tbody tr th:only-of-type {\n",
       "        vertical-align: middle;\n",
       "    }\n",
       "\n",
       "    .dataframe tbody tr th {\n",
       "        vertical-align: top;\n",
       "    }\n",
       "\n",
       "    .dataframe thead th {\n",
       "        text-align: right;\n",
       "    }\n",
       "</style>\n",
       "<table border=\"1\" class=\"dataframe\">\n",
       "  <thead>\n",
       "    <tr style=\"text-align: right;\">\n",
       "      <th></th>\n",
       "      <th>seq</th>\n",
       "      <th>anos_estudo</th>\n",
       "      <th>regiao</th>\n",
       "    </tr>\n",
       "  </thead>\n",
       "  <tbody>\n",
       "    <tr>\n",
       "      <th>0</th>\n",
       "      <td>0</td>\n",
       "      <td>5.0</td>\n",
       "      <td>norte</td>\n",
       "    </tr>\n",
       "    <tr>\n",
       "      <th>1</th>\n",
       "      <td>1</td>\n",
       "      <td>8.0</td>\n",
       "      <td>norte</td>\n",
       "    </tr>\n",
       "    <tr>\n",
       "      <th>2</th>\n",
       "      <td>2</td>\n",
       "      <td>11.0</td>\n",
       "      <td>nordeste</td>\n",
       "    </tr>\n",
       "    <tr>\n",
       "      <th>3</th>\n",
       "      <td>3</td>\n",
       "      <td>15.0</td>\n",
       "      <td>norte</td>\n",
       "    </tr>\n",
       "    <tr>\n",
       "      <th>4</th>\n",
       "      <td>4</td>\n",
       "      <td>15.0</td>\n",
       "      <td>norte</td>\n",
       "    </tr>\n",
       "  </tbody>\n",
       "</table>\n",
       "</div>"
      ],
      "text/plain": [
       "   seq  anos_estudo    regiao\n",
       "0    0          5.0     norte\n",
       "1    1          8.0     norte\n",
       "2    2         11.0  nordeste\n",
       "3    3         15.0     norte\n",
       "4    4         15.0     norte"
      ]
     },
     "execution_count": 102,
     "metadata": {},
     "output_type": "execute_result"
    }
   ],
   "source": [
    "# Como nosso objetivo é comparar apenas duas colunas do dataset, anos_estudo e regiao, vamos desconsiderar as demais:\n",
    "df = df[['seq', 'anos_estudo', 'regiao']]\n",
    "df.head()"
   ]
  },
  {
   "cell_type": "code",
   "execution_count": 100,
   "metadata": {},
   "outputs": [
    {
     "data": {
      "text/html": [
       "<div>\n",
       "<style scoped>\n",
       "    .dataframe tbody tr th:only-of-type {\n",
       "        vertical-align: middle;\n",
       "    }\n",
       "\n",
       "    .dataframe tbody tr th {\n",
       "        vertical-align: top;\n",
       "    }\n",
       "\n",
       "    .dataframe thead th {\n",
       "        text-align: right;\n",
       "    }\n",
       "</style>\n",
       "<table border=\"1\" class=\"dataframe\">\n",
       "  <thead>\n",
       "    <tr style=\"text-align: right;\">\n",
       "      <th></th>\n",
       "      <th>count</th>\n",
       "      <th>unique</th>\n",
       "      <th>top</th>\n",
       "      <th>freq</th>\n",
       "      <th>mean</th>\n",
       "      <th>std</th>\n",
       "      <th>min</th>\n",
       "      <th>25%</th>\n",
       "      <th>50%</th>\n",
       "      <th>75%</th>\n",
       "      <th>max</th>\n",
       "    </tr>\n",
       "  </thead>\n",
       "  <tbody>\n",
       "    <tr>\n",
       "      <th>seq</th>\n",
       "      <td>66470</td>\n",
       "      <td>NaN</td>\n",
       "      <td>NaN</td>\n",
       "      <td>NaN</td>\n",
       "      <td>33234.5</td>\n",
       "      <td>19188.4</td>\n",
       "      <td>0</td>\n",
       "      <td>16617.2</td>\n",
       "      <td>33234.5</td>\n",
       "      <td>49851.8</td>\n",
       "      <td>66469</td>\n",
       "    </tr>\n",
       "    <tr>\n",
       "      <th>anos_estudo</th>\n",
       "      <td>66036</td>\n",
       "      <td>NaN</td>\n",
       "      <td>NaN</td>\n",
       "      <td>NaN</td>\n",
       "      <td>8.68607</td>\n",
       "      <td>3.37452</td>\n",
       "      <td>5</td>\n",
       "      <td>5</td>\n",
       "      <td>8</td>\n",
       "      <td>11</td>\n",
       "      <td>15</td>\n",
       "    </tr>\n",
       "    <tr>\n",
       "      <th>regiao</th>\n",
       "      <td>66470</td>\n",
       "      <td>5</td>\n",
       "      <td>sudeste</td>\n",
       "      <td>25220</td>\n",
       "      <td>NaN</td>\n",
       "      <td>NaN</td>\n",
       "      <td>NaN</td>\n",
       "      <td>NaN</td>\n",
       "      <td>NaN</td>\n",
       "      <td>NaN</td>\n",
       "      <td>NaN</td>\n",
       "    </tr>\n",
       "  </tbody>\n",
       "</table>\n",
       "</div>"
      ],
      "text/plain": [
       "             count unique      top   freq     mean      std  min      25%  \\\n",
       "seq          66470    NaN      NaN    NaN  33234.5  19188.4    0  16617.2   \n",
       "anos_estudo  66036    NaN      NaN    NaN  8.68607  3.37452    5        5   \n",
       "regiao       66470      5  sudeste  25220      NaN      NaN  NaN      NaN   \n",
       "\n",
       "                 50%      75%    max  \n",
       "seq          33234.5  49851.8  66469  \n",
       "anos_estudo        8       11     15  \n",
       "regiao           NaN      NaN    NaN  "
      ]
     },
     "execution_count": 100,
     "metadata": {},
     "output_type": "execute_result"
    }
   ],
   "source": [
    "df.describe(include='all').T"
   ]
  },
  {
   "cell_type": "markdown",
   "metadata": {},
   "source": [
    "Importante notar que ocorrem alguns valores nulos em anos_estudo, mas não em região. Vamos analisar cada variável individualmente."
   ]
  },
  {
   "cell_type": "markdown",
   "metadata": {},
   "source": [
    "### Explorando anos_estudo:"
   ]
  },
  {
   "cell_type": "code",
   "execution_count": 136,
   "metadata": {},
   "outputs": [
    {
     "data": {
      "image/png": "[encoded data removed]",
      "text/plain": [
       "<Figure size 1296x504 with 2 Axes>"
      ]
     },
     "metadata": {
      "needs_background": "light"
     },
     "output_type": "display_data"
    }
   ],
   "source": [
    "# Visualizando a distribuição:\n",
    "fig, ax = plt.subplots(1, 2, figsize=(18, 7))\n",
    "\n",
    "ax[0].hist(df.anos_estudo.dropna(), bins=20, range=(0, 20), ec='black')\n",
    "ax[0].set_xticks(range(0, 21))\n",
    "ax[0].set_title('Distribuição anos_estudo', fontsize='20')\n",
    "ax[0].set_xlabel('Anos de estudo', fontsize='12')\n",
    "ax[0].set_ylabel('Número de Indivíduos', fontsize='12')\n",
    "\n",
    "ax[1].hist(df.anos_estudo.dropna(), cumulative=-\n",
    "           1, bins=10, range=(5, 20), ec='black')\n",
    "ax[1].set_xticks(range(0, 21))\n",
    "ax[1].set_title('Distribuição acumulada reversa anos_estudo', fontsize='20')\n",
    "ax[1].set_xlabel('Anos de estudo', fontsize='12')\n",
    "ax[1].set_ylabel('Número de Indivíduos', fontsize='12')\n",
    "\n",
    "plt.show()"
   ]
  },
  {
   "cell_type": "markdown",
   "metadata": {},
   "source": [
    "&rarr; Aqui vale um comentário mais detalhado. Alguns pontos a serem observados:\n",
    "\n",
    "1) A ocorrência dos picos no primeiro histograma deve-se aos ciclos de ensino no Brasil. 5 anos corresponde ao Ensino Fundamental I completo, 8 anos corresponde ao Ensino Fundamental II completo, 11 anos de estudo correspondem ao Ensino Médio completo e 14 e 15 anos de estudo correspondem ao Ensino Superior Completo\n",
    "\n",
    "2) Em um país como o Brasil, em que 7% da população ainda é analfabeta (PNAD 2017), parece estranho que, em uma amostra com 66000 observações, nenhum indivíduo tenha menos do que 5 anos de estudo. Da mesma forma, parece estranho que nenhum indivíduo tenha mais do que 15 anos de estudo. Isso indica um viés em potencial na pesquisa.\n",
    "\n"
   ]
  },
  {
   "cell_type": "code",
   "execution_count": 103,
   "metadata": {},
   "outputs": [
    {
     "name": "stdout",
     "output_type": "stream",
     "text": [
      "Os valores nulos correspondem a apenas 0.65% dos valores da coluna 'anos_estudo'.\n"
     ]
    }
   ],
   "source": [
    "# Nulos:\n",
    "perc = df['anos_estudo'].isnull().sum()/df.shape[0] * 100\n",
    "print(\n",
    "    'Os valores nulos correspondem a apenas {:.2f}% dos valores da coluna \\'anos_estudo\\'.'.format(perc))"
   ]
  },
  {
   "cell_type": "code",
   "execution_count": 104,
   "metadata": {},
   "outputs": [],
   "source": [
    "# Como os valores nulos correspondem a uma fração muito pequena do Dataset,\n",
    "# vamos optar por desconsiderá-los uma vez que não é possível inferir a que se referem.\n",
    "df.dropna(subset=['anos_estudo'], inplace=True)"
   ]
  },
  {
   "cell_type": "markdown",
   "metadata": {},
   "source": [
    "### Explorando 'região'"
   ]
  },
  {
   "cell_type": "code",
   "execution_count": 140,
   "metadata": {},
   "outputs": [
    {
     "data": {
      "image/png": "[encoded data removed]",
      "text/plain": [
       "<Figure size 576x432 with 1 Axes>"
      ]
     },
     "metadata": {
      "needs_background": "light"
     },
     "output_type": "display_data"
    }
   ],
   "source": [
    "# Visualizando a distribuição de indivíduos nas regiões do Brasil na amostra:\n",
    "fig, ax = plt.subplots(figsize=(8, 6))\n",
    "\n",
    "df.regiao.value_counts().plot(ax=ax, kind='bar', ec='black')\n",
    "\n",
    "ax.set_title('Distribuição regiao', fontsize='20')\n",
    "ax.set_xlabel('Região', fontsize='12')\n",
    "ax.set_ylabel('Número de Indivíduos', fontsize='12')\n",
    "\n",
    "plt.show()"
   ]
  },
  {
   "cell_type": "markdown",
   "metadata": {},
   "source": [
    "&rarr; Aqui podemos perceber mais um problema da amostra. Pouquíssimos indivíduos da região nordeste. Mais uma prova de que essa amostra é enviesada e não é representativa da população brasileira."
   ]
  },
  {
   "cell_type": "code",
   "execution_count": 141,
   "metadata": {},
   "outputs": [
    {
     "data": {
      "text/plain": [
       "sudeste         25111\n",
       "centro-oeste    14652\n",
       "norte           14555\n",
       "sul             11713\n",
       "nordeste            5\n",
       "Name: regiao, dtype: int64"
      ]
     },
     "execution_count": 141,
     "metadata": {},
     "output_type": "execute_result"
    }
   ],
   "source": [
    "df.regiao.value_counts()"
   ]
  },
  {
   "cell_type": "markdown",
   "metadata": {},
   "source": [
    "De fato, apenas 5 indivíduos da região Nordeste. Como essa quantidade de indivíduos não é nem um pouco representativa, vamos optar por excluir a região das análises. Assim:"
   ]
  },
  {
   "cell_type": "code",
   "execution_count": 143,
   "metadata": {},
   "outputs": [],
   "source": [
    "# Removendo a região nordeste:\n",
    "df = df.loc[df['regiao']!='nordeste']"
   ]
  },
  {
   "cell_type": "markdown",
   "metadata": {},
   "source": [
    "### Explorando anos_estudo vs região:"
   ]
  },
  {
   "cell_type": "code",
   "execution_count": 252,
   "metadata": {
    "ExecuteTime": {
     "end_time": "2019-10-04T21:33:55.339889Z",
     "start_time": "2019-10-04T21:33:54.630788Z"
    }
   },
   "outputs": [
    {
     "data": {
      "image/png": "[encoded data removed]",
      "text/plain": [
       "<Figure size 1080x576 with 4 Axes>"
      ]
     },
     "metadata": {
      "needs_background": "light"
     },
     "output_type": "display_data"
    }
   ],
   "source": [
    "regioes = iter(df.regiao.unique())\n",
    "colors = iter(['darkblue', 'darkred', 'darkgreen', 'orange'])\n",
    "\n",
    "fig, axs = plt.subplots(2, 2, figsize=(15, 8))\n",
    "\n",
    "for ax in axs.flat:\n",
    "    regiao = next(regioes)\n",
    "    color_ = next(colors)\n",
    "    \n",
    "    ax.hist(df.loc[df['regiao'] == regiao, 'anos_estudo'],\n",
    "            bins=10, ec='black', density=True, color=color_)\n",
    "    ax.grid()\n",
    "    ax.set_xticks(range(5, 16))\n",
    "    ax.set_ylim(0, 0.45)\n",
    "    ax.set_title('Região '+regiao.capitalize(), fontsize='15')\n",
    "    ax.set_ylabel('Número de indivíduos')\n",
    "    ax.set_xlabel('Anos de estudo')\n",
    "    ax.legend([regiao.capitalize()])\n",
    "\n",
    "plt.tight_layout()\n",
    "plt.show()"
   ]
  },
  {
   "cell_type": "markdown",
   "metadata": {},
   "source": [
    "&rarr; Os histogramas dispostos acima são normalizados pelo tamanho da amostra, de forma que nos permitem comparar as distribuições das regiões. Novamente os picos se repetem nos anos que marcam fins dos ciclos de educação. Podemos notar, por exemplo, que a proporção de indivíduos que fizeram apenas o Ensino Fundamental I é maior na região Norte, com relação as demais. Além disso, pode-se perceber que, talvez como consequência da situação descrita, a proporção de indivíduos que conclui o ensino superior na região Norte é menor que nas demais. Aparentemente, a região cuja população mais conclui o ensino superior parece ser a região Sul, ainda que a diferença com relação a Sudeste e Centro-Oeste seja muito pequena."
   ]
  },
  {
   "cell_type": "markdown",
   "metadata": {},
   "source": [
    "## Análise Estatística:\n",
    "\n",
    "Já vimos que a amostra da qual dispomos não é representativa da população brasileira, uma vez não há muitos indivíduos da região nordeste e os anos de estudo não estão bem distribuídos. Contudo, para efeito didático, vamos considerar como se a amostra fosse representativa e seguir com a análise."
   ]
  },
  {
   "cell_type": "markdown",
   "metadata": {},
   "source": [
    "### Teorema do Limite Central:\n",
    "\n",
    "Conforme vimos nos histogramas plotados anteriormente, a distribuição da população em função do número de anos de estudo não se comporta como uma distribuição normal. Contudo, os testes estatísticos mais robustos têm como premissa que a distribuição seja uma distribuição normal.\n",
    "\n",
    "O Teorema do Limite Central surge para ajudar nesse sentido. Segundo este teorema, dada uma população, se tomarmos um número suficientemente grande de amostras (n_sample) de tamanho suficientemente grande (sample_size), a distribuição das médias de cada amostra se comportará como uma distribuição normal, cuja média se aproxima da média da população e cujo desvio padrão se aproxima do desvio padrão da população dividido pelo tamanho da amostra.\n",
    "\n",
    "No nosso caso, usaremos o Teorema do Limite Central para criar uma distribuição normal que represente a população do Brasil e também para criar distribuições normais que representam as populações de cada uma das quatro regiões analisadas."
   ]
  },
  {
   "cell_type": "code",
   "execution_count": 260,
   "metadata": {
    "ExecuteTime": {
     "end_time": "2019-10-04T22:46:28.185372Z",
     "start_time": "2019-10-04T22:46:28.174401Z"
    }
   },
   "outputs": [],
   "source": [
    "# Definindo função para amostragem aleatória e obtenção da distribuição das médias:\n",
    "def sampling(data, sample_size):\n",
    "    \n",
    "    index = np.random.choice(range(0,data.shape[0]), size=sample_size)\n",
    "    sample_df = data.iloc[index]\n",
    "    \n",
    "    return sample_df\n",
    "\n",
    "def sample_means(data, sample_size, n_sample):\n",
    "    samp_means = []\n",
    "    \n",
    "    for sample in range(n_sample):\n",
    "        sample = sampling(data, sample_size)\n",
    "        samp_means.append(sample.mean())\n",
    "        \n",
    "    return samp_means"
   ]
  },
  {
   "cell_type": "code",
   "execution_count": 268,
   "metadata": {
    "ExecuteTime": {
     "end_time": "2019-10-04T22:56:00.102797Z",
     "start_time": "2019-10-04T22:53:22.571163Z"
    }
   },
   "outputs": [],
   "source": [
    "dist_brasil = sample_means(df['anos_estudo'], sample_size=500, n_sample=10000)\n",
    "dist_norte = sample_means(df.loc[df['regiao']=='norte', 'anos_estudo'], sample_size=500, n_sample=10000)\n",
    "dist_co = sample_means(df.loc[df['regiao']=='centro-oeste', 'anos_estudo'], sample_size=500, n_sample=10000)\n",
    "dist_sul = sample_means(df.loc[df['regiao']=='sul', 'anos_estudo'], sample_size=500, n_sample=10000)\n",
    "dist_sudeste = sample_means(df.loc[df['regiao']=='sudeste', 'anos_estudo'], sample_size=500, n_sample=10000)"
   ]
  },
  {
   "cell_type": "code",
   "execution_count": 271,
   "metadata": {
    "ExecuteTime": {
     "end_time": "2019-10-04T22:57:13.052611Z",
     "start_time": "2019-10-04T22:57:13.048587Z"
    }
   },
   "outputs": [],
   "source": [
    "distribuicoes = [dist_brasil, dist_norte, dist_co, dist_sul, dist_sudeste]"
   ]
  },
  {
   "cell_type": "code",
   "execution_count": 14,
   "metadata": {},
   "outputs": [
    {
     "data": {
      "text/plain": [
       "sudeste         25220\n",
       "centro-oeste    14702\n",
       "norte           14653\n",
       "sul             11890\n",
       "Name: regiao, dtype: int64"
      ]
     },
     "execution_count": 14,
     "metadata": {},
     "output_type": "execute_result"
    }
   ],
   "source": [
    "# Passando a máscara para remoção dos valores da região nordeste:\n",
    "df_teste = df['regiao'][(df['regiao'] != 'nordeste')]\n",
    "df_teste.value_counts()"
   ]
  },
  {
   "cell_type": "code",
   "execution_count": 15,
   "metadata": {},
   "outputs": [
    {
     "data": {
      "text/plain": [
       "sudeste         25220\n",
       "centro-oeste    14702\n",
       "norte           14653\n",
       "sul             11890\n",
       "Name: regiao, dtype: int64"
      ]
     },
     "execution_count": 15,
     "metadata": {},
     "output_type": "execute_result"
    }
   ],
   "source": [
    "#Sobrescrevendo o DataFrame original:\n",
    "df['regiao'] = df_teste\n",
    "df.regiao.value_counts()"
   ]
  },
  {
   "cell_type": "code",
   "execution_count": 16,
   "metadata": {},
   "outputs": [
    {
     "data": {
      "text/plain": [
       "<matplotlib.axes._subplots.AxesSubplot at 0x2159d08b4a8>"
      ]
     },
     "execution_count": 16,
     "metadata": {},
     "output_type": "execute_result"
    },
    {
     "data": {
      "image/png": "[encoded data removed]",
      "text/plain": [
       "<Figure size 432x288 with 1 Axes>"
      ]
     },
     "metadata": {
      "needs_background": "light"
     },
     "output_type": "display_data"
    }
   ],
   "source": [
    "df.regiao.value_counts().plot(kind ='bar')"
   ]
  },
  {
   "cell_type": "markdown",
   "metadata": {},
   "source": [
    "* ## Cruzando as variáveis 'região' e 'anos_estudo':"
   ]
  },
  {
   "cell_type": "code",
   "execution_count": 17,
   "metadata": {},
   "outputs": [
    {
     "data": {
      "text/html": [
       "<div>\n",
       "<style scoped>\n",
       "    .dataframe tbody tr th:only-of-type {\n",
       "        vertical-align: middle;\n",
       "    }\n",
       "\n",
       "    .dataframe tbody tr th {\n",
       "        vertical-align: top;\n",
       "    }\n",
       "\n",
       "    .dataframe thead th {\n",
       "        text-align: right;\n",
       "    }\n",
       "</style>\n",
       "<table border=\"1\" class=\"dataframe\">\n",
       "  <thead>\n",
       "    <tr style=\"text-align: right;\">\n",
       "      <th></th>\n",
       "      <th>anos_estudo</th>\n",
       "    </tr>\n",
       "    <tr>\n",
       "      <th>regiao</th>\n",
       "      <th></th>\n",
       "    </tr>\n",
       "  </thead>\n",
       "  <tbody>\n",
       "    <tr>\n",
       "      <th>centro-oeste</th>\n",
       "      <td>8.645646</td>\n",
       "    </tr>\n",
       "    <tr>\n",
       "      <th>norte</th>\n",
       "      <td>8.312951</td>\n",
       "    </tr>\n",
       "    <tr>\n",
       "      <th>sudeste</th>\n",
       "      <td>8.902115</td>\n",
       "    </tr>\n",
       "    <tr>\n",
       "      <th>sul</th>\n",
       "      <td>8.736788</td>\n",
       "    </tr>\n",
       "  </tbody>\n",
       "</table>\n",
       "</div>"
      ],
      "text/plain": [
       "              anos_estudo\n",
       "regiao                   \n",
       "centro-oeste     8.645646\n",
       "norte            8.312951\n",
       "sudeste          8.902115\n",
       "sul              8.736788"
      ]
     },
     "execution_count": 17,
     "metadata": {},
     "output_type": "execute_result"
    }
   ],
   "source": [
    "df_cross = pd.DataFrame(df.groupby('regiao')['anos_estudo'].mean())\n",
    "df_cross"
   ]
  },
  {
   "cell_type": "raw",
   "metadata": {},
   "source": [
    "dfx = pd.DataFrame(df[(df['salario'] > 0) & (df['salario'] <=228)])\n",
    "dfx.groupby('regiao')['salario'].count()\n",
    "df.groupby('regiao').count()\n",
    "for i in range(0,5):\n",
    "    print(dfx.groupby('regiao')['salario'].count()[i]/df.groupby('regiao')['salario'].count()[i])"
   ]
  },
  {
   "cell_type": "code",
   "execution_count": 18,
   "metadata": {},
   "outputs": [],
   "source": [
    "# E se eu quisesse usar um laço para nomear as variaveis? Seria possível atrelar o nome de uma variável à variável temporária do laço?"
   ]
  },
  {
   "cell_type": "code",
   "execution_count": 19,
   "metadata": {},
   "outputs": [
    {
     "data": {
      "text/plain": [
       "<matplotlib.axes._subplots.AxesSubplot at 0x2159d31f0f0>"
      ]
     },
     "execution_count": 19,
     "metadata": {},
     "output_type": "execute_result"
    },
    {
     "data": {
      "image/png": "[encoded data removed]",
      "text/plain": [
       "<Figure size 432x288 with 1 Axes>"
      ]
     },
     "metadata": {
      "needs_background": "light"
     },
     "output_type": "display_data"
    }
   ],
   "source": [
    "df_cross.plot(kind = 'bar',color = 'green')"
   ]
  },
  {
   "cell_type": "markdown",
   "metadata": {},
   "source": [
    "* ##  Análise Estatística:"
   ]
  },
  {
   "cell_type": "code",
   "execution_count": 20,
   "metadata": {},
   "outputs": [],
   "source": [
    "# Definindo funções de amostragem:\n",
    "def sampling(df, n):\n",
    "    index = np.random.choice(range(0, len(df)), size = n)\n",
    "    df_s = np.array(df.iloc[index,])\n",
    "    return (df_s)\n",
    "\n",
    "def samp_means(df, n_i, n_reps):\n",
    "    means = []\n",
    "    for reps in range(n_reps):\n",
    "        s_ = sampling(df, n_i)\n",
    "        m_ = s_.mean()\n",
    "        means.append(m_)\n",
    "    return (means)"
   ]
  },
  {
   "cell_type": "code",
   "execution_count": 21,
   "metadata": {},
   "outputs": [],
   "source": [
    "# Criando uma distribuição normal das médias de anos de estudo:\n",
    "\n",
    "df_estudo = pd.DataFrame(df['anos_estudo'])\n",
    "df_estudo.dropna(0, inplace = True)\n",
    "n = 1000\n",
    "sample = samp_means(df_estudo, n, 1000)"
   ]
  },
  {
   "cell_type": "code",
   "execution_count": 22,
   "metadata": {},
   "outputs": [
    {
     "name": "stdout",
     "output_type": "stream",
     "text": [
      "Regiao centro-oeste: \n",
      ">>> p-valor = 5.746078684597263e-34 \n",
      ">>> Resultado: Rejeitamos a hipótese nula.\n",
      "Regiao norte: \n",
      ">>> p-valor = 0.0 \n",
      ">>> Resultado: Rejeitamos a hipótese nula.\n",
      "Regiao sudeste: \n",
      ">>> p-valor = 0.0 \n",
      ">>> Resultado: Rejeitamos a hipótese nula.\n",
      "Regiao sul: \n",
      ">>> p-valor = 4.216860923253391e-41 \n",
      ">>> Resultado: Rejeitamos a hipótese nula.\n"
     ]
    }
   ],
   "source": [
    "# Rodando o teste t para comparar as médias de cada região com a média da pop.\n",
    "# Hipótese nula: as médias das regiões são estatisticamente iguais à média total da população.\n",
    "for i in range(0,4):\n",
    "    teste_t = st.ttest_1samp(sample, df_cross.anos_estudo[i])\n",
    "    if teste_t[1] < 0.05:\n",
    "        analise = 'Rejeitamos a hipótese nula.'\n",
    "    else :\n",
    "        analise = 'Não rejeitamos a hipótese nula.'\n",
    "    print ('Regiao {0:}: \\n>>> p-valor = {1:} \\n>>> Resultado: {2}'.format(df_cross.index[i], teste_t[1], analise))"
   ]
  },
  {
   "cell_type": "code",
   "execution_count": 25,
   "metadata": {},
   "outputs": [
    {
     "name": "stdout",
     "output_type": "stream",
     "text": [
      "8.682057796456265 <----> 8.695444203543735\n",
      "Região: centro-oeste\n",
      ">>> Resultado: Rejeitamos a nula\n",
      "8.682057796456265 <----> 8.695444203543735\n",
      "Região: norte\n",
      ">>> Resultado: Rejeitamos a nula\n",
      "8.682057796456265 <----> 8.695444203543735\n",
      "Região: sudeste\n",
      ">>> Resultado: Rejeitamos a nula\n",
      "8.682057796456265 <----> 8.695444203543735\n",
      "Região: sul\n",
      ">>> Resultado: Rejeitamos a nula\n"
     ]
    }
   ],
   "source": [
    "# Definindo intervalo de confiança e testando a hipótese nula para a média de cada região:\n",
    "mean, sigma = np.mean(sample), np.std(sample)\n",
    "SE = sigma/np.sqrt(n)\n",
    "intervalo = st.norm.interval(alpha = 0.95, loc = mean, scale = SE)\n",
    "\n",
    "for i in range(0,4):\n",
    "    print (intervalo[0], '<---->', intervalo[1])\n",
    "    if intervalo[0] < df_cross.anos_estudo[i] < intervalo [1]:\n",
    "        \n",
    "        print ('Região: {0:}\\n>>> Resultado: Não rejeitamos a nula'.format(df_cross.index[i]))\n",
    "    else:\n",
    "        print('Região: {0:}\\n>>> Resultado: Rejeitamos a nula'.format(df_cross.index[i]))"
   ]
  },
  {
   "cell_type": "code",
   "execution_count": 52,
   "metadata": {},
   "outputs": [
    {
     "name": "stdout",
     "output_type": "stream",
     "text": [
      "Região: centro-oeste\n",
      ">>> Resultado: Rejeitamos a nula\n",
      "Região: norte\n",
      ">>> Resultado: Rejeitamos a nula\n",
      "Região: sudeste\n",
      ">>> Resultado: Rejeitamos a nula\n",
      "Região: sul\n",
      ">>> Resultado: Rejeitamos a nula\n"
     ]
    }
   ],
   "source": [
    "# Calculando t, t crítico e testando se rejeitamos a nula para t:\n",
    "t_critico_inferior = st.ttest_1samp(sample, intervalo[1])[0]\n",
    "t_critico_superior = st.ttest_1samp(sample, intervalo[0])[0]\n",
    "for i in range(0,4):\n",
    "    t_ = st.ttest_1samp(sample, df_cross.anos_estudo[i])[0]\n",
    "    if t_critico_inferior < t_ < t_critico_superior:\n",
    "        print ('Região: {0:}\\n>>> Resultado: Não rejeitamos a nula'.format(df_cross.index[i]))\n",
    "    else:\n",
    "         print('Região: {0:}\\n>>> Resultado: Rejeitamos a nula'.format(df_cross.index[i]))"
   ]
  },
  {
   "cell_type": "markdown",
   "metadata": {},
   "source": [
    "# **Resposta final:** de fato, a região interfere sim na média de anos de estudo da população. Ou seja, a média de anos de estudo de cada região é significativamente diferente."
   ]
  },
  {
   "cell_type": "code",
   "execution_count": null,
   "metadata": {},
   "outputs": [],
   "source": []
  }
 ],
 "metadata": {
  "kernelspec": {
   "display_name": "Python 3",
   "language": "python",
   "name": "python3"
  },
  "language_info": {
   "codemirror_mode": {
    "name": "ipython",
    "version": 3
   },
   "file_extension": ".py",
   "mimetype": "text/x-python",
   "name": "python",
   "nbconvert_exporter": "python",
   "pygments_lexer": "ipython3",
   "version": "3.7.3"
  },
  "toc": {
   "base_numbering": 1,
   "nav_menu": {},
   "number_sections": true,
   "sideBar": true,
   "skip_h1_title": true,
   "title_cell": "Table of Contents",
   "title_sidebar": "Contents",
   "toc_cell": false,
   "toc_position": {
    "height": "calc(100% - 180px)",
    "left": "10px",
    "top": "150px",
    "width": "307.2px"
   },
   "toc_section_display": true,
   "toc_window_display": false
  }
 },
 "nbformat": 4,
 "nbformat_minor": 2
}
