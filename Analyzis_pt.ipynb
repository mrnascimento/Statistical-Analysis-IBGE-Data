{
 "cells": [
  {
   "cell_type": "markdown",
   "metadata": {},
   "source": [
    "# Análise estatística dos dados do IBGE\n",
    "\n",
    "No presente trabalho, faremos uma análise bem específica do Dataset do PNAD do IBGE 2010, buscando responder uma pergunta de negócio. Este trabalho foi proposto como desafio no primeiro módulo do curso de Data Science da Digital House e, abaixo, apresento a solução desenvolvida por mim."
   ]
  },
  {
   "cell_type": "markdown",
   "metadata": {},
   "source": [
    "## Objetivo &mdash; A pergunta de negócio:\n",
    "\n",
    "A pergunta escolhida, a qual será respondida ao final da análise foi:\n",
    "\n",
    "**\"As regiões do Brasil apresentam escolaridades médias diferentes?\"**"
   ]
  },
  {
   "cell_type": "code",
   "execution_count": 1,
   "metadata": {},
   "outputs": [],
   "source": [
    "# Importando bibliotecas\n",
    "\n",
    "import pandas as pd\n",
    "import numpy as np\n",
    "import matplotlib.pyplot as plt\n",
    "import scipy.stats as st\n",
    "import seaborn as sns"
   ]
  },
  {
   "cell_type": "markdown",
   "metadata": {},
   "source": [
    "## EDA "
   ]
  },
  {
   "cell_type": "code",
   "execution_count": 6,
   "metadata": {},
   "outputs": [
    {
     "data": {
      "text/html": [
       "<div>\n",
       "<style scoped>\n",
       "    .dataframe tbody tr th:only-of-type {\n",
       "        vertical-align: middle;\n",
       "    }\n",
       "\n",
       "    .dataframe tbody tr th {\n",
       "        vertical-align: top;\n",
       "    }\n",
       "\n",
       "    .dataframe thead th {\n",
       "        text-align: right;\n",
       "    }\n",
       "</style>\n",
       "<table border=\"1\" class=\"dataframe\">\n",
       "  <thead>\n",
       "    <tr style=\"text-align: right;\">\n",
       "      <th></th>\n",
       "      <th>seq</th>\n",
       "      <th>id</th>\n",
       "      <th>idade</th>\n",
       "      <th>sexo</th>\n",
       "      <th>anos_estudo</th>\n",
       "      <th>cor/raca</th>\n",
       "      <th>salario</th>\n",
       "      <th>estado_civil</th>\n",
       "      <th>regiao</th>\n",
       "    </tr>\n",
       "  </thead>\n",
       "  <tbody>\n",
       "    <tr>\n",
       "      <th>0</th>\n",
       "      <td>0</td>\n",
       "      <td>1.100190e+10</td>\n",
       "      <td>53</td>\n",
       "      <td>homem</td>\n",
       "      <td>5.0</td>\n",
       "      <td>Parda</td>\n",
       "      <td>63600.000000</td>\n",
       "      <td>1.0</td>\n",
       "      <td>norte</td>\n",
       "    </tr>\n",
       "    <tr>\n",
       "      <th>1</th>\n",
       "      <td>1</td>\n",
       "      <td>1.100190e+10</td>\n",
       "      <td>49</td>\n",
       "      <td>mulher</td>\n",
       "      <td>8.0</td>\n",
       "      <td>Amarela</td>\n",
       "      <td>NaN</td>\n",
       "      <td>1.0</td>\n",
       "      <td>norte</td>\n",
       "    </tr>\n",
       "    <tr>\n",
       "      <th>2</th>\n",
       "      <td>2</td>\n",
       "      <td>1.100190e+10</td>\n",
       "      <td>22</td>\n",
       "      <td>mulher</td>\n",
       "      <td>11.0</td>\n",
       "      <td>Indigena</td>\n",
       "      <td>4352.400391</td>\n",
       "      <td>0.0</td>\n",
       "      <td>nordeste</td>\n",
       "    </tr>\n",
       "    <tr>\n",
       "      <th>3</th>\n",
       "      <td>3</td>\n",
       "      <td>1.100190e+10</td>\n",
       "      <td>55</td>\n",
       "      <td>homem</td>\n",
       "      <td>15.0</td>\n",
       "      <td>Amarela</td>\n",
       "      <td>96600.000000</td>\n",
       "      <td>1.0</td>\n",
       "      <td>norte</td>\n",
       "    </tr>\n",
       "    <tr>\n",
       "      <th>4</th>\n",
       "      <td>4</td>\n",
       "      <td>1.100190e+10</td>\n",
       "      <td>56</td>\n",
       "      <td>mulher</td>\n",
       "      <td>15.0</td>\n",
       "      <td>Amarela</td>\n",
       "      <td>157800.000000</td>\n",
       "      <td>1.0</td>\n",
       "      <td>norte</td>\n",
       "    </tr>\n",
       "  </tbody>\n",
       "</table>\n",
       "</div>"
      ],
      "text/plain": [
       "   seq            id  idade    sexo  anos_estudo  cor/raca        salario  \\\n",
       "0    0  1.100190e+10     53   homem          5.0     Parda   63600.000000   \n",
       "1    1  1.100190e+10     49  mulher          8.0   Amarela            NaN   \n",
       "2    2  1.100190e+10     22  mulher         11.0  Indigena    4352.400391   \n",
       "3    3  1.100190e+10     55   homem         15.0   Amarela   96600.000000   \n",
       "4    4  1.100190e+10     56  mulher         15.0   Amarela  157800.000000   \n",
       "\n",
       "   estado_civil    regiao  \n",
       "0           1.0     norte  \n",
       "1           1.0     norte  \n",
       "2           0.0  nordeste  \n",
       "3           1.0     norte  \n",
       "4           1.0     norte  "
      ]
     },
     "metadata": {},
     "output_type": "display_data"
    },
    {
     "data": {
      "text/html": [
       "<div>\n",
       "<style scoped>\n",
       "    .dataframe tbody tr th:only-of-type {\n",
       "        vertical-align: middle;\n",
       "    }\n",
       "\n",
       "    .dataframe tbody tr th {\n",
       "        vertical-align: top;\n",
       "    }\n",
       "\n",
       "    .dataframe thead th {\n",
       "        text-align: right;\n",
       "    }\n",
       "</style>\n",
       "<table border=\"1\" class=\"dataframe\">\n",
       "  <thead>\n",
       "    <tr style=\"text-align: right;\">\n",
       "      <th></th>\n",
       "      <th>seq</th>\n",
       "      <th>id</th>\n",
       "      <th>idade</th>\n",
       "      <th>sexo</th>\n",
       "      <th>anos_estudo</th>\n",
       "      <th>cor/raca</th>\n",
       "      <th>salario</th>\n",
       "      <th>estado_civil</th>\n",
       "      <th>regiao</th>\n",
       "    </tr>\n",
       "  </thead>\n",
       "  <tbody>\n",
       "    <tr>\n",
       "      <th>66465</th>\n",
       "      <td>66465</td>\n",
       "      <td>5.311702e+10</td>\n",
       "      <td>34</td>\n",
       "      <td>mulher</td>\n",
       "      <td>5.0</td>\n",
       "      <td>Branca</td>\n",
       "      <td>NaN</td>\n",
       "      <td>1.0</td>\n",
       "      <td>centro-oeste</td>\n",
       "    </tr>\n",
       "    <tr>\n",
       "      <th>66466</th>\n",
       "      <td>66466</td>\n",
       "      <td>5.311702e+10</td>\n",
       "      <td>40</td>\n",
       "      <td>homem</td>\n",
       "      <td>5.0</td>\n",
       "      <td>Parda</td>\n",
       "      <td>2425.000000</td>\n",
       "      <td>1.0</td>\n",
       "      <td>centro-oeste</td>\n",
       "    </tr>\n",
       "    <tr>\n",
       "      <th>66467</th>\n",
       "      <td>66467</td>\n",
       "      <td>5.311702e+10</td>\n",
       "      <td>36</td>\n",
       "      <td>mulher</td>\n",
       "      <td>5.0</td>\n",
       "      <td>Parda</td>\n",
       "      <td>2425.000000</td>\n",
       "      <td>1.0</td>\n",
       "      <td>centro-oeste</td>\n",
       "    </tr>\n",
       "    <tr>\n",
       "      <th>66468</th>\n",
       "      <td>66468</td>\n",
       "      <td>5.311702e+10</td>\n",
       "      <td>27</td>\n",
       "      <td>mulher</td>\n",
       "      <td>5.0</td>\n",
       "      <td>Branca</td>\n",
       "      <td>5524.200195</td>\n",
       "      <td>1.0</td>\n",
       "      <td>centro-oeste</td>\n",
       "    </tr>\n",
       "    <tr>\n",
       "      <th>66469</th>\n",
       "      <td>66469</td>\n",
       "      <td>5.311702e+10</td>\n",
       "      <td>37</td>\n",
       "      <td>homem</td>\n",
       "      <td>5.0</td>\n",
       "      <td>Preta</td>\n",
       "      <td>460.350006</td>\n",
       "      <td>1.0</td>\n",
       "      <td>centro-oeste</td>\n",
       "    </tr>\n",
       "  </tbody>\n",
       "</table>\n",
       "</div>"
      ],
      "text/plain": [
       "         seq            id  idade    sexo  anos_estudo cor/raca      salario  \\\n",
       "66465  66465  5.311702e+10     34  mulher          5.0   Branca          NaN   \n",
       "66466  66466  5.311702e+10     40   homem          5.0    Parda  2425.000000   \n",
       "66467  66467  5.311702e+10     36  mulher          5.0    Parda  2425.000000   \n",
       "66468  66468  5.311702e+10     27  mulher          5.0   Branca  5524.200195   \n",
       "66469  66469  5.311702e+10     37   homem          5.0    Preta   460.350006   \n",
       "\n",
       "       estado_civil        regiao  \n",
       "66465           1.0  centro-oeste  \n",
       "66466           1.0  centro-oeste  \n",
       "66467           1.0  centro-oeste  \n",
       "66468           1.0  centro-oeste  \n",
       "66469           1.0  centro-oeste  "
      ]
     },
     "execution_count": 6,
     "metadata": {},
     "output_type": "execute_result"
    }
   ],
   "source": [
    "# Lendo e visualizando o dataset:\n",
    "df = pd.read_csv(r'./data/demografia.csv')\n",
    "display(df.head())\n",
    "df.tail()"
   ]
  },
  {
   "cell_type": "code",
   "execution_count": 5,
   "metadata": {},
   "outputs": [
    {
     "name": "stdout",
     "output_type": "stream",
     "text": [
      "<class 'pandas.core.frame.DataFrame'>\n",
      "RangeIndex: 66470 entries, 0 to 66469\n",
      "Data columns (total 9 columns):\n",
      "seq             66470 non-null int64\n",
      "id              66470 non-null float64\n",
      "idade           66470 non-null int64\n",
      "sexo            66470 non-null object\n",
      "anos_estudo     66036 non-null float64\n",
      "cor/raca        66228 non-null object\n",
      "salario         47878 non-null float64\n",
      "estado_civil    66470 non-null float64\n",
      "regiao          66470 non-null object\n",
      "dtypes: float64(4), int64(2), object(3)\n",
      "memory usage: 4.6+ MB\n"
     ]
    }
   ],
   "source": [
    "# Feature anos_estudo apresenta alguns valores nulos\n",
    "df.info()"
   ]
  },
  {
   "cell_type": "code",
   "execution_count": 6,
   "metadata": {},
   "outputs": [
    {
     "data": {
      "text/plain": [
       "<matplotlib.collections.PathCollection at 0x2159cf873c8>"
      ]
     },
     "execution_count": 6,
     "metadata": {},
     "output_type": "execute_result"
    },
    {
     "data": {
      "image/png": "[encoded data removed]",
      "text/plain": [
       "<Figure size 432x288 with 1 Axes>"
      ]
     },
     "metadata": {
      "needs_background": "light"
     },
     "output_type": "display_data"
    }
   ],
   "source": [
    "plt.scatter(df['anos_estudo'], df['salario'])"
   ]
  },
  {
   "cell_type": "markdown",
   "metadata": {},
   "source": [
    "# Definindo a hipótese: A região tem alguma interferencia na média de anos de estudo da população?"
   ]
  },
  {
   "cell_type": "markdown",
   "metadata": {},
   "source": [
    "## Analisando e tratando anos_estudo:\n",
    "\n",
    "  * #### Explorando a variável em questão:"
   ]
  },
  {
   "cell_type": "code",
   "execution_count": 7,
   "metadata": {},
   "outputs": [
    {
     "data": {
      "text/plain": [
       "5.0     23349\n",
       "11.0    16790\n",
       "15.0     5636\n",
       "8.0      5017\n",
       "10.0     2704\n",
       "7.0      2612\n",
       "12.0     2610\n",
       "9.0      2474\n",
       "6.0      2237\n",
       "13.0     1348\n",
       "14.0     1259\n",
       "NaN       434\n",
       "Name: anos_estudo, dtype: int64"
      ]
     },
     "execution_count": 7,
     "metadata": {},
     "output_type": "execute_result"
    }
   ],
   "source": [
    "df.anos_estudo.value_counts(dropna = False)"
   ]
  },
  {
   "cell_type": "markdown",
   "metadata": {},
   "source": [
    "* #### Analisando os dados de \"anos_estudo\", notamos a presença de alguns nulos. Não identificamos presença de outliers."
   ]
  },
  {
   "cell_type": "code",
   "execution_count": 8,
   "metadata": {},
   "outputs": [
    {
     "name": "stdout",
     "output_type": "stream",
     "text": [
      "Os valores nulos correspondem a apenas 0.66% dos valores da coluna 'anos_estudo'.\n"
     ]
    }
   ],
   "source": [
    "nulos = df['anos_estudo'].isnull().sum()\n",
    "total = df.anos_estudo.count()\n",
    "perc = nulos/total * 100\n",
    "print('Os valores nulos correspondem a apenas {:.2f}% dos valores da coluna \\'anos_estudo\\'.'.format(perc))"
   ]
  },
  {
   "cell_type": "markdown",
   "metadata": {},
   "source": [
    "#####  &rarr; Em um país como o Brasil, em que 7% da população ainda é analfabeta (Pnad 2017), parece estranho que, em uma amostra com 66000 observações, nenhum indivíduo tenha menos do que 5 anos de estudo. Isso indicaria um viés na amostra?\n",
    "Para compensar isso, pensei em pegar os nulos e distribuí-los igualmente entre 0, 1, 2, 3 e 4 anos de estudo. Isso é razoável? Ou eu estaria enviesando mais o DataSet?\n",
    "\n",
    "Como o número de nulos é muito pequeno em relação ao conjunto amostral, acredito que o melhor caminho aqui seria apenas desconsiderá-los."
   ]
  },
  {
   "cell_type": "code",
   "execution_count": 9,
   "metadata": {},
   "outputs": [],
   "source": [
    "df.anos_estudo.dropna(0, inplace = True)"
   ]
  },
  {
   "cell_type": "raw",
   "metadata": {},
   "source": [
    "df.anos_estudo.fillna(0, inplace = True)"
   ]
  },
  {
   "cell_type": "code",
   "execution_count": 10,
   "metadata": {},
   "outputs": [
    {
     "data": {
      "text/plain": [
       "5.0     23349\n",
       "11.0    16790\n",
       "15.0     5636\n",
       "8.0      5017\n",
       "10.0     2704\n",
       "7.0      2612\n",
       "12.0     2610\n",
       "9.0      2474\n",
       "6.0      2237\n",
       "13.0     1348\n",
       "14.0     1259\n",
       "Name: anos_estudo, dtype: int64"
      ]
     },
     "execution_count": 10,
     "metadata": {},
     "output_type": "execute_result"
    }
   ],
   "source": [
    "df.anos_estudo.value_counts()"
   ]
  },
  {
   "cell_type": "code",
   "execution_count": 11,
   "metadata": {},
   "outputs": [
    {
     "data": {
      "text/plain": [
       "66036"
      ]
     },
     "execution_count": 11,
     "metadata": {},
     "output_type": "execute_result"
    }
   ],
   "source": [
    "df.anos_estudo.count()"
   ]
  },
  {
   "cell_type": "raw",
   "metadata": {},
   "source": [
    "df_trat = df['anos_estudo'][(df['anos_estudo']) == 0]\n",
    "df_trat.dropna(0, inplace = True)\n",
    "df_trat.value_counts(dropna = False)\n",
    "df['anos_estudo'] = df['anos_estudo'][(df['anos_estudo']) != 0]"
   ]
  },
  {
   "cell_type": "raw",
   "metadata": {},
   "source": [
    "for i, value in enumerate(df_trat):\n",
    "    if i <= 86:\n",
    "        pass\n",
    "    elif i <= 172:\n",
    "        df_trat[i] = 1\n",
    "    elif i <= 258:\n",
    "        df_trat[i]= 2\n",
    "    elif i <= 344:\n",
    "        df_trat[i] = 3\n",
    "    elif i <= 434:\n",
    "        df_trat[i] = 4\n",
    "df_trat = pd.DataFrame(df_trat[(df_trat.index <= 434)])"
   ]
  },
  {
   "cell_type": "raw",
   "metadata": {},
   "source": [
    "df = df.append(df_trat, ignore_index = True)\n",
    "df.anos_estudo.value_counts()"
   ]
  },
  {
   "cell_type": "code",
   "execution_count": 12,
   "metadata": {},
   "outputs": [
    {
     "data": {
      "text/plain": [
       "<matplotlib.axes._subplots.AxesSubplot at 0x2159cfe8ef0>"
      ]
     },
     "execution_count": 12,
     "metadata": {},
     "output_type": "execute_result"
    },
    {
     "data": {
      "image/png": "[encoded data removed]",
      "text/plain": [
       "<Figure size 432x288 with 1 Axes>"
      ]
     },
     "metadata": {
      "needs_background": "light"
     },
     "output_type": "display_data"
    }
   ],
   "source": [
    "df.anos_estudo.plot.hist(bins = 14, range = (0,15))"
   ]
  },
  {
   "cell_type": "markdown",
   "metadata": {},
   "source": [
    "* ## Analisando e tratando 'região'"
   ]
  },
  {
   "cell_type": "code",
   "execution_count": 13,
   "metadata": {},
   "outputs": [
    {
     "data": {
      "text/plain": [
       "sudeste         25220\n",
       "centro-oeste    14702\n",
       "norte           14653\n",
       "sul             11890\n",
       "nordeste            5\n",
       "Name: regiao, dtype: int64"
      ]
     },
     "execution_count": 13,
     "metadata": {},
     "output_type": "execute_result"
    }
   ],
   "source": [
    "df.regiao.value_counts()"
   ]
  },
  {
   "cell_type": "markdown",
   "metadata": {},
   "source": [
    "- #### Podemos notar a presença de um viés nesse conjunto de dados, uma vez que a região nordeste apresenta apenas 5 indivíduos. Assim, por ser uma quantidade pouco significativa, optaremos por excluir a referida região dessa análise."
   ]
  },
  {
   "cell_type": "code",
   "execution_count": 14,
   "metadata": {},
   "outputs": [
    {
     "data": {
      "text/plain": [
       "sudeste         25220\n",
       "centro-oeste    14702\n",
       "norte           14653\n",
       "sul             11890\n",
       "Name: regiao, dtype: int64"
      ]
     },
     "execution_count": 14,
     "metadata": {},
     "output_type": "execute_result"
    }
   ],
   "source": [
    "# Passando a máscara para remoção dos valores da região nordeste:\n",
    "df_teste = df['regiao'][(df['regiao'] != 'nordeste')]\n",
    "df_teste.value_counts()"
   ]
  },
  {
   "cell_type": "code",
   "execution_count": 15,
   "metadata": {},
   "outputs": [
    {
     "data": {
      "text/plain": [
       "sudeste         25220\n",
       "centro-oeste    14702\n",
       "norte           14653\n",
       "sul             11890\n",
       "Name: regiao, dtype: int64"
      ]
     },
     "execution_count": 15,
     "metadata": {},
     "output_type": "execute_result"
    }
   ],
   "source": [
    "#Sobrescrevendo o DataFrame original:\n",
    "df['regiao'] = df_teste\n",
    "df.regiao.value_counts()"
   ]
  },
  {
   "cell_type": "code",
   "execution_count": 16,
   "metadata": {},
   "outputs": [
    {
     "data": {
      "text/plain": [
       "<matplotlib.axes._subplots.AxesSubplot at 0x2159d08b4a8>"
      ]
     },
     "execution_count": 16,
     "metadata": {},
     "output_type": "execute_result"
    },
    {
     "data": {
      "image/png": "[encoded data removed]",
      "text/plain": [
       "<Figure size 432x288 with 1 Axes>"
      ]
     },
     "metadata": {
      "needs_background": "light"
     },
     "output_type": "display_data"
    }
   ],
   "source": [
    "df.regiao.value_counts().plot(kind ='bar')"
   ]
  },
  {
   "cell_type": "markdown",
   "metadata": {},
   "source": [
    "* ## Cruzando as variáveis 'região' e 'anos_estudo':"
   ]
  },
  {
   "cell_type": "code",
   "execution_count": 17,
   "metadata": {},
   "outputs": [
    {
     "data": {
      "text/html": [
       "<div>\n",
       "<style scoped>\n",
       "    .dataframe tbody tr th:only-of-type {\n",
       "        vertical-align: middle;\n",
       "    }\n",
       "\n",
       "    .dataframe tbody tr th {\n",
       "        vertical-align: top;\n",
       "    }\n",
       "\n",
       "    .dataframe thead th {\n",
       "        text-align: right;\n",
       "    }\n",
       "</style>\n",
       "<table border=\"1\" class=\"dataframe\">\n",
       "  <thead>\n",
       "    <tr style=\"text-align: right;\">\n",
       "      <th></th>\n",
       "      <th>anos_estudo</th>\n",
       "    </tr>\n",
       "    <tr>\n",
       "      <th>regiao</th>\n",
       "      <th></th>\n",
       "    </tr>\n",
       "  </thead>\n",
       "  <tbody>\n",
       "    <tr>\n",
       "      <th>centro-oeste</th>\n",
       "      <td>8.645646</td>\n",
       "    </tr>\n",
       "    <tr>\n",
       "      <th>norte</th>\n",
       "      <td>8.312951</td>\n",
       "    </tr>\n",
       "    <tr>\n",
       "      <th>sudeste</th>\n",
       "      <td>8.902115</td>\n",
       "    </tr>\n",
       "    <tr>\n",
       "      <th>sul</th>\n",
       "      <td>8.736788</td>\n",
       "    </tr>\n",
       "  </tbody>\n",
       "</table>\n",
       "</div>"
      ],
      "text/plain": [
       "              anos_estudo\n",
       "regiao                   \n",
       "centro-oeste     8.645646\n",
       "norte            8.312951\n",
       "sudeste          8.902115\n",
       "sul              8.736788"
      ]
     },
     "execution_count": 17,
     "metadata": {},
     "output_type": "execute_result"
    }
   ],
   "source": [
    "df_cross = pd.DataFrame(df.groupby('regiao')['anos_estudo'].mean())\n",
    "df_cross"
   ]
  },
  {
   "cell_type": "raw",
   "metadata": {},
   "source": [
    "dfx = pd.DataFrame(df[(df['salario'] > 0) & (df['salario'] <=228)])\n",
    "dfx.groupby('regiao')['salario'].count()\n",
    "df.groupby('regiao').count()\n",
    "for i in range(0,5):\n",
    "    print(dfx.groupby('regiao')['salario'].count()[i]/df.groupby('regiao')['salario'].count()[i])"
   ]
  },
  {
   "cell_type": "code",
   "execution_count": 18,
   "metadata": {},
   "outputs": [],
   "source": [
    "# E se eu quisesse usar um laço para nomear as variaveis? Seria possível atrelar o nome de uma variável à variável temporária do laço?"
   ]
  },
  {
   "cell_type": "code",
   "execution_count": 19,
   "metadata": {},
   "outputs": [
    {
     "data": {
      "text/plain": [
       "<matplotlib.axes._subplots.AxesSubplot at 0x2159d31f0f0>"
      ]
     },
     "execution_count": 19,
     "metadata": {},
     "output_type": "execute_result"
    },
    {
     "data": {
      "image/png": "[encoded data removed]",
      "text/plain": [
       "<Figure size 432x288 with 1 Axes>"
      ]
     },
     "metadata": {
      "needs_background": "light"
     },
     "output_type": "display_data"
    }
   ],
   "source": [
    "df_cross.plot(kind = 'bar',color = 'green')"
   ]
  },
  {
   "cell_type": "markdown",
   "metadata": {},
   "source": [
    "* ##  Análise Estatística:"
   ]
  },
  {
   "cell_type": "code",
   "execution_count": 20,
   "metadata": {},
   "outputs": [],
   "source": [
    "# Definindo funções de amostragem:\n",
    "def sampling(df, n):\n",
    "    index = np.random.choice(range(0, len(df)), size = n)\n",
    "    df_s = np.array(df.iloc[index,])\n",
    "    return (df_s)\n",
    "\n",
    "def samp_means(df, n_i, n_reps):\n",
    "    means = []\n",
    "    for reps in range(n_reps):\n",
    "        s_ = sampling(df, n_i)\n",
    "        m_ = s_.mean()\n",
    "        means.append(m_)\n",
    "    return (means)"
   ]
  },
  {
   "cell_type": "code",
   "execution_count": 21,
   "metadata": {},
   "outputs": [],
   "source": [
    "# Criando uma distribuição normal das médias de anos de estudo:\n",
    "\n",
    "df_estudo = pd.DataFrame(df['anos_estudo'])\n",
    "df_estudo.dropna(0, inplace = True)\n",
    "n = 1000\n",
    "sample = samp_means(df_estudo, n, 1000)"
   ]
  },
  {
   "cell_type": "code",
   "execution_count": 22,
   "metadata": {},
   "outputs": [
    {
     "name": "stdout",
     "output_type": "stream",
     "text": [
      "Regiao centro-oeste: \n",
      ">>> p-valor = 5.746078684597263e-34 \n",
      ">>> Resultado: Rejeitamos a hipótese nula.\n",
      "Regiao norte: \n",
      ">>> p-valor = 0.0 \n",
      ">>> Resultado: Rejeitamos a hipótese nula.\n",
      "Regiao sudeste: \n",
      ">>> p-valor = 0.0 \n",
      ">>> Resultado: Rejeitamos a hipótese nula.\n",
      "Regiao sul: \n",
      ">>> p-valor = 4.216860923253391e-41 \n",
      ">>> Resultado: Rejeitamos a hipótese nula.\n"
     ]
    }
   ],
   "source": [
    "# Rodando o teste t para comparar as médias de cada região com a média da pop.\n",
    "# Hipótese nula: as médias das regiões são estatisticamente iguais à média total da população.\n",
    "for i in range(0,4):\n",
    "    teste_t = st.ttest_1samp(sample, df_cross.anos_estudo[i])\n",
    "    if teste_t[1] < 0.05:\n",
    "        analise = 'Rejeitamos a hipótese nula.'\n",
    "    else :\n",
    "        analise = 'Não rejeitamos a hipótese nula.'\n",
    "    print ('Regiao {0:}: \\n>>> p-valor = {1:} \\n>>> Resultado: {2}'.format(df_cross.index[i], teste_t[1], analise))"
   ]
  },
  {
   "cell_type": "code",
   "execution_count": 25,
   "metadata": {},
   "outputs": [
    {
     "name": "stdout",
     "output_type": "stream",
     "text": [
      "8.682057796456265 <----> 8.695444203543735\n",
      "Região: centro-oeste\n",
      ">>> Resultado: Rejeitamos a nula\n",
      "8.682057796456265 <----> 8.695444203543735\n",
      "Região: norte\n",
      ">>> Resultado: Rejeitamos a nula\n",
      "8.682057796456265 <----> 8.695444203543735\n",
      "Região: sudeste\n",
      ">>> Resultado: Rejeitamos a nula\n",
      "8.682057796456265 <----> 8.695444203543735\n",
      "Região: sul\n",
      ">>> Resultado: Rejeitamos a nula\n"
     ]
    }
   ],
   "source": [
    "# Definindo intervalo de confiança e testando a hipótese nula para a média de cada região:\n",
    "mean, sigma = np.mean(sample), np.std(sample)\n",
    "SE = sigma/np.sqrt(n)\n",
    "intervalo = st.norm.interval(alpha = 0.95, loc = mean, scale = SE)\n",
    "\n",
    "for i in range(0,4):\n",
    "    print (intervalo[0], '<---->', intervalo[1])\n",
    "    if intervalo[0] < df_cross.anos_estudo[i] < intervalo [1]:\n",
    "        \n",
    "        print ('Região: {0:}\\n>>> Resultado: Não rejeitamos a nula'.format(df_cross.index[i]))\n",
    "    else:\n",
    "        print('Região: {0:}\\n>>> Resultado: Rejeitamos a nula'.format(df_cross.index[i]))"
   ]
  },
  {
   "cell_type": "code",
   "execution_count": 52,
   "metadata": {},
   "outputs": [
    {
     "name": "stdout",
     "output_type": "stream",
     "text": [
      "Região: centro-oeste\n",
      ">>> Resultado: Rejeitamos a nula\n",
      "Região: norte\n",
      ">>> Resultado: Rejeitamos a nula\n",
      "Região: sudeste\n",
      ">>> Resultado: Rejeitamos a nula\n",
      "Região: sul\n",
      ">>> Resultado: Rejeitamos a nula\n"
     ]
    }
   ],
   "source": [
    "# Calculando t, t crítico e testando se rejeitamos a nula para t:\n",
    "t_critico_inferior = st.ttest_1samp(sample, intervalo[1])[0]\n",
    "t_critico_superior = st.ttest_1samp(sample, intervalo[0])[0]\n",
    "for i in range(0,4):\n",
    "    t_ = st.ttest_1samp(sample, df_cross.anos_estudo[i])[0]\n",
    "    if t_critico_inferior < t_ < t_critico_superior:\n",
    "        print ('Região: {0:}\\n>>> Resultado: Não rejeitamos a nula'.format(df_cross.index[i]))\n",
    "    else:\n",
    "         print('Região: {0:}\\n>>> Resultado: Rejeitamos a nula'.format(df_cross.index[i]))"
   ]
  },
  {
   "cell_type": "markdown",
   "metadata": {},
   "source": [
    "# **Resposta final:** de fato, a região interfere sim na média de anos de estudo da população. Ou seja, a média de anos de estudo de cada região é significativamente diferente."
   ]
  },
  {
   "cell_type": "code",
   "execution_count": null,
   "metadata": {},
   "outputs": [],
   "source": []
  }
 ],
 "metadata": {
  "kernelspec": {
   "display_name": "Python 3",
   "language": "python",
   "name": "python3"
  },
  "language_info": {
   "codemirror_mode": {
    "name": "ipython",
    "version": 3
   },
   "file_extension": ".py",
   "mimetype": "text/x-python",
   "name": "python",
   "nbconvert_exporter": "python",
   "pygments_lexer": "ipython3",
   "version": "3.7.3"
  },
  "toc": {
   "base_numbering": 1,
   "nav_menu": {},
   "number_sections": true,
   "sideBar": true,
   "skip_h1_title": true,
   "title_cell": "Table of Contents",
   "title_sidebar": "Contents",
   "toc_cell": false,
   "toc_position": {},
   "toc_section_display": true,
   "toc_window_display": true
  }
 },
 "nbformat": 4,
 "nbformat_minor": 2
}
